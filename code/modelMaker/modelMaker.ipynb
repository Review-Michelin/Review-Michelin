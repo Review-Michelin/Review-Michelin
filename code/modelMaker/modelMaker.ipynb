{
  "nbformat": 4,
  "nbformat_minor": 0,
  "metadata": {
    "colab": {
      "name": "modelMaker.ipynb",
      "provenance": [],
      "collapsed_sections": []
    },
    "kernelspec": {
      "name": "python3",
      "display_name": "Python 3"
    },
    "language_info": {
      "name": "python"
    }
  },
  "cells": [
    {
      "cell_type": "code",
      "execution_count": 177,
      "metadata": {
        "colab": {
          "base_uri": "https://localhost:8080/"
        },
        "id": "rq_X-DMCvbtS",
        "outputId": "82a0bb8f-1407-4dca-df4f-5865c2025fa6"
      },
      "outputs": [
        {
          "output_type": "stream",
          "name": "stdout",
          "text": [
            "Looking in indexes: https://pypi.org/simple, https://us-python.pkg.dev/colab-wheels/public/simple/\n",
            "Requirement already satisfied: konlpy in /usr/local/lib/python3.7/dist-packages (0.6.0)\n",
            "Requirement already satisfied: JPype1>=0.7.0 in /usr/local/lib/python3.7/dist-packages (from konlpy) (1.4.0)\n",
            "Requirement already satisfied: lxml>=4.1.0 in /usr/local/lib/python3.7/dist-packages (from konlpy) (4.2.6)\n",
            "Requirement already satisfied: numpy>=1.6 in /usr/local/lib/python3.7/dist-packages (from konlpy) (1.21.6)\n",
            "Requirement already satisfied: typing-extensions in /usr/local/lib/python3.7/dist-packages (from JPype1>=0.7.0->konlpy) (4.2.0)\n",
            "Looking in indexes: https://pypi.org/simple, https://us-python.pkg.dev/colab-wheels/public/simple/\n",
            "Requirement already satisfied: tensorflow in /usr/local/lib/python3.7/dist-packages (2.9.1)\n",
            "Requirement already satisfied: flatbuffers<2,>=1.12 in /usr/local/lib/python3.7/dist-packages (from tensorflow) (1.12)\n",
            "Requirement already satisfied: astunparse>=1.6.0 in /usr/local/lib/python3.7/dist-packages (from tensorflow) (1.6.3)\n",
            "Requirement already satisfied: tensorflow-io-gcs-filesystem>=0.23.1 in /usr/local/lib/python3.7/dist-packages (from tensorflow) (0.26.0)\n",
            "Requirement already satisfied: google-pasta>=0.1.1 in /usr/local/lib/python3.7/dist-packages (from tensorflow) (0.2.0)\n",
            "Requirement already satisfied: opt-einsum>=2.3.2 in /usr/local/lib/python3.7/dist-packages (from tensorflow) (3.3.0)\n",
            "Requirement already satisfied: six>=1.12.0 in /usr/local/lib/python3.7/dist-packages (from tensorflow) (1.15.0)\n",
            "Requirement already satisfied: tensorboard<2.10,>=2.9 in /usr/local/lib/python3.7/dist-packages (from tensorflow) (2.9.0)\n",
            "Requirement already satisfied: numpy>=1.20 in /usr/local/lib/python3.7/dist-packages (from tensorflow) (1.21.6)\n",
            "Requirement already satisfied: grpcio<2.0,>=1.24.3 in /usr/local/lib/python3.7/dist-packages (from tensorflow) (1.46.1)\n",
            "Requirement already satisfied: termcolor>=1.1.0 in /usr/local/lib/python3.7/dist-packages (from tensorflow) (1.1.0)\n",
            "Requirement already satisfied: h5py>=2.9.0 in /usr/local/lib/python3.7/dist-packages (from tensorflow) (3.1.0)\n",
            "Requirement already satisfied: tensorflow-estimator<2.10.0,>=2.9.0rc0 in /usr/local/lib/python3.7/dist-packages (from tensorflow) (2.9.0)\n",
            "Requirement already satisfied: keras-preprocessing>=1.1.1 in /usr/local/lib/python3.7/dist-packages (from tensorflow) (1.1.2)\n",
            "Requirement already satisfied: protobuf<3.20,>=3.9.2 in /usr/local/lib/python3.7/dist-packages (from tensorflow) (3.17.3)\n",
            "Requirement already satisfied: setuptools in /usr/local/lib/python3.7/dist-packages (from tensorflow) (57.4.0)\n",
            "Requirement already satisfied: libclang>=13.0.0 in /usr/local/lib/python3.7/dist-packages (from tensorflow) (14.0.1)\n",
            "Requirement already satisfied: packaging in /usr/local/lib/python3.7/dist-packages (from tensorflow) (21.3)\n",
            "Requirement already satisfied: absl-py>=1.0.0 in /usr/local/lib/python3.7/dist-packages (from tensorflow) (1.0.0)\n",
            "Requirement already satisfied: wrapt>=1.11.0 in /usr/local/lib/python3.7/dist-packages (from tensorflow) (1.14.1)\n",
            "Requirement already satisfied: gast<=0.4.0,>=0.2.1 in /usr/local/lib/python3.7/dist-packages (from tensorflow) (0.4.0)\n",
            "Requirement already satisfied: keras<2.10.0,>=2.9.0rc0 in /usr/local/lib/python3.7/dist-packages (from tensorflow) (2.9.0)\n",
            "Requirement already satisfied: typing-extensions>=3.6.6 in /usr/local/lib/python3.7/dist-packages (from tensorflow) (4.2.0)\n",
            "Requirement already satisfied: wheel<1.0,>=0.23.0 in /usr/local/lib/python3.7/dist-packages (from astunparse>=1.6.0->tensorflow) (0.37.1)\n",
            "Requirement already satisfied: cached-property in /usr/local/lib/python3.7/dist-packages (from h5py>=2.9.0->tensorflow) (1.5.2)\n",
            "Requirement already satisfied: markdown>=2.6.8 in /usr/local/lib/python3.7/dist-packages (from tensorboard<2.10,>=2.9->tensorflow) (3.3.7)\n",
            "Requirement already satisfied: google-auth-oauthlib<0.5,>=0.4.1 in /usr/local/lib/python3.7/dist-packages (from tensorboard<2.10,>=2.9->tensorflow) (0.4.6)\n",
            "Requirement already satisfied: tensorboard-data-server<0.7.0,>=0.6.0 in /usr/local/lib/python3.7/dist-packages (from tensorboard<2.10,>=2.9->tensorflow) (0.6.1)\n",
            "Requirement already satisfied: tensorboard-plugin-wit>=1.6.0 in /usr/local/lib/python3.7/dist-packages (from tensorboard<2.10,>=2.9->tensorflow) (1.8.1)\n",
            "Requirement already satisfied: requests<3,>=2.21.0 in /usr/local/lib/python3.7/dist-packages (from tensorboard<2.10,>=2.9->tensorflow) (2.23.0)\n",
            "Requirement already satisfied: google-auth<3,>=1.6.3 in /usr/local/lib/python3.7/dist-packages (from tensorboard<2.10,>=2.9->tensorflow) (1.35.0)\n",
            "Requirement already satisfied: werkzeug>=1.0.1 in /usr/local/lib/python3.7/dist-packages (from tensorboard<2.10,>=2.9->tensorflow) (1.0.1)\n",
            "Requirement already satisfied: pyasn1-modules>=0.2.1 in /usr/local/lib/python3.7/dist-packages (from google-auth<3,>=1.6.3->tensorboard<2.10,>=2.9->tensorflow) (0.2.8)\n",
            "Requirement already satisfied: rsa<5,>=3.1.4 in /usr/local/lib/python3.7/dist-packages (from google-auth<3,>=1.6.3->tensorboard<2.10,>=2.9->tensorflow) (4.8)\n",
            "Requirement already satisfied: cachetools<5.0,>=2.0.0 in /usr/local/lib/python3.7/dist-packages (from google-auth<3,>=1.6.3->tensorboard<2.10,>=2.9->tensorflow) (4.2.4)\n",
            "Requirement already satisfied: requests-oauthlib>=0.7.0 in /usr/local/lib/python3.7/dist-packages (from google-auth-oauthlib<0.5,>=0.4.1->tensorboard<2.10,>=2.9->tensorflow) (1.3.1)\n",
            "Requirement already satisfied: importlib-metadata>=4.4 in /usr/local/lib/python3.7/dist-packages (from markdown>=2.6.8->tensorboard<2.10,>=2.9->tensorflow) (4.11.3)\n",
            "Requirement already satisfied: zipp>=0.5 in /usr/local/lib/python3.7/dist-packages (from importlib-metadata>=4.4->markdown>=2.6.8->tensorboard<2.10,>=2.9->tensorflow) (3.8.0)\n",
            "Requirement already satisfied: pyasn1<0.5.0,>=0.4.6 in /usr/local/lib/python3.7/dist-packages (from pyasn1-modules>=0.2.1->google-auth<3,>=1.6.3->tensorboard<2.10,>=2.9->tensorflow) (0.4.8)\n",
            "Requirement already satisfied: certifi>=2017.4.17 in /usr/local/lib/python3.7/dist-packages (from requests<3,>=2.21.0->tensorboard<2.10,>=2.9->tensorflow) (2022.5.18.1)\n",
            "Requirement already satisfied: chardet<4,>=3.0.2 in /usr/local/lib/python3.7/dist-packages (from requests<3,>=2.21.0->tensorboard<2.10,>=2.9->tensorflow) (3.0.4)\n",
            "Requirement already satisfied: urllib3!=1.25.0,!=1.25.1,<1.26,>=1.21.1 in /usr/local/lib/python3.7/dist-packages (from requests<3,>=2.21.0->tensorboard<2.10,>=2.9->tensorflow) (1.24.3)\n",
            "Requirement already satisfied: idna<3,>=2.5 in /usr/local/lib/python3.7/dist-packages (from requests<3,>=2.21.0->tensorboard<2.10,>=2.9->tensorflow) (2.10)\n",
            "Requirement already satisfied: oauthlib>=3.0.0 in /usr/local/lib/python3.7/dist-packages (from requests-oauthlib>=0.7.0->google-auth-oauthlib<0.5,>=0.4.1->tensorboard<2.10,>=2.9->tensorflow) (3.2.0)\n",
            "Requirement already satisfied: pyparsing!=3.0.5,>=2.0.2 in /usr/local/lib/python3.7/dist-packages (from packaging->tensorflow) (3.0.9)\n",
            "Looking in indexes: https://pypi.org/simple, https://us-python.pkg.dev/colab-wheels/public/simple/\n",
            "Requirement already satisfied: keras in /usr/local/lib/python3.7/dist-packages (2.9.0)\n"
          ]
        }
      ],
      "source": [
        "!pip install konlpy\n",
        "!pip install tensorflow\n",
        "!pip install -q -U tensorflow-text\n",
        "!pip install -q tf-models-official\n",
        "!pip install keras"
      ]
    },
    {
      "cell_type": "code",
      "source": [
        "import csv\n",
        "import pandas as pd\n",
        "import numpy as np\n",
        "%matplotlib inline\n",
        "import matplotlib.pyplot as plt\n",
        "import re\n",
        "import urllib.request\n",
        "import tensorflow.compat.v2 as tf\n",
        "import tensorflow_datasets as tfds\n",
        "from konlpy.tag import Okt\n",
        "\n",
        "from tensorflow.keras.preprocessing.text import Tokenizer\n",
        "from tensorflow.keras.preprocessing.sequence import pad_sequences"
      ],
      "metadata": {
        "id": "il0h0fPRyAFD"
      },
      "execution_count": 178,
      "outputs": []
    },
    {
      "cell_type": "code",
      "source": [
        "data_atmosphere = pd.read_csv('restaurant_atmosphere.csv')\n",
        "data_cost = pd.read_csv('restaurant_cost.csv')\n",
        "#data_service = pd.read_csv('restaurant_service2.csv',on_bad_lines='skip')\n",
        "data_taste = pd.read_csv('restaurant_taste.csv')\n",
        "data_visit = pd.read_csv('restaurant_visit.csv')\n",
        "print(data_taste)"
      ],
      "metadata": {
        "colab": {
          "base_uri": "https://localhost:8080/"
        },
        "id": "8HiEQXHOyHY6",
        "outputId": "67523510-3ace-4686-a47e-f9b244706243"
      },
      "execution_count": 179,
      "outputs": [
        {
          "output_type": "stream",
          "name": "stdout",
          "text": [
            "                                                context  key\n",
            "0     맛보다 수 있다 맛 좋다 요 정말 맛있다 고소하다 맛 특징 라떼 고소하다 부드럽다 ...    1\n",
            "1     맛있다 하다 라떼 맛있다 들다 니다 케이크 맛있다 라떼 맛있다 고소하다 고르다 좋다...    1\n",
            "2     맛있다 픽 버터 다 맛있다 고소하다 맛 당근 고소하다 배곧 스콘 듯 고소하다 텁텁 ...    1\n",
            "3                  맛있다 커피 디저트 들다 맛있다 고소하다 특징 이다 라떼 고소하다    1\n",
            "4     맛있다 티라미슈 좋아하다 맛있다 디저트 카페 촉촉하다 맛있다 후 맛있다 촉촉하다 맛...    1\n",
            "...                                                 ...  ...\n",
            "9635                                최고이다  너무 맛 크다플 최고이다    1\n",
            "9636                                          맛있다 자다 먹다    1\n",
            "9637                              맛있다  취향 차이다 아메리카노 맛있다    1\n",
            "9638                                   맛있다  배곧 커피 다 맛있다    1\n",
            "9639                                             커피 맛있다    1\n",
            "\n",
            "[9640 rows x 2 columns]\n"
          ]
        }
      ]
    },
    {
      "cell_type": "code",
      "source": [
        "train_taste_data = data_taste.sample(frac=0.8, random_state=25)\n",
        "test_taste_data = data_taste.drop(train_taste_data.index)\n",
        "train_cost_data = data_cost.sample(frac=0.8, random_state=25)\n",
        "test_cost_data = data_cost.drop(train_cost_data.index)\n",
        "train_visit_data = data_visit.sample(frac=0.8, random_state=25)\n",
        "test_visit_data = data_visit.drop(train_visit_data.index)\n",
        "train_atmosphere_data = data_atmosphere.sample(frac=0.8, random_state=25)\n",
        "test_atmosphere_data = data_atmosphere.drop(train_atmosphere_data.index)"
      ],
      "metadata": {
        "id": "VqKg6lzU6O8o"
      },
      "execution_count": 180,
      "outputs": []
    },
    {
      "cell_type": "code",
      "source": [
        "from tensorflow.keras.preprocessing.text import Tokenizer\n",
        "from tensorflow.keras.preprocessing.sequence import pad_sequences \n",
        "from tensorflow.python.keras.layers import Embedding, Dense, LSTM\n",
        "from keras.models import Sequential\n",
        "from keras.models import load_model\n",
        "from keras.callbacks import EarlyStopping, ModelCheckpoint\n",
        "tokenizer = Tokenizer(num_words=20000)\n",
        "tokenizer.fit_on_texts(train_taste_data['context'])\n",
        "tokenizer.fit_on_texts(train_cost_data['context'])\n",
        "tokenizer.fit_on_texts(train_visit_data['context'])\n",
        "tokenizer.fit_on_texts(train_atmosphere_data['context'])\n",
        "\n",
        "train_taste_x = tokenizer.texts_to_sequences(train_taste_data['context'])\n",
        "train_taste_x = pad_sequences(train_taste_x, padding='post',maxlen = 50)\n",
        "train_taste_y = np.array(train_taste_data['key'])\n",
        "\n",
        "train_cost_x = tokenizer.texts_to_sequences(train_cost_data['context'])\n",
        "train_cost_x = pad_sequences(train_cost_x, padding='post',maxlen = 50)\n",
        "train_cost_y = np.array(train_cost_data['key'])\n",
        "\n",
        "train_visit_x = tokenizer.texts_to_sequences(train_visit_data['context'])\n",
        "train_visit_x = pad_sequences(train_visit_x, padding='post',maxlen = 50)\n",
        "train_visit_y = np.array(train_visit_data['key'])\n",
        "\n",
        "train_atmosphere_x = tokenizer.texts_to_sequences(train_atmosphere_data['context'])\n",
        "train_atmosphere_x = pad_sequences(train_atmosphere_x, padding='post',maxlen = 50)\n",
        "train_atmosphere_y = np.array(train_atmosphere_data['key'])\n",
        "\n",
        "print(train_taste_x[:5])\n",
        "print(train_cost_x[:5])\n",
        "print(train_visit_x[:5])\n",
        "print(train_atmosphere_x[:5])"
      ],
      "metadata": {
        "colab": {
          "base_uri": "https://localhost:8080/"
        },
        "id": "Q5VLWXTRyydw",
        "outputId": "8891c8f2-d0d0-4aab-efd7-9b5a5ec6264a"
      },
      "execution_count": 181,
      "outputs": [
        {
          "output_type": "stream",
          "name": "stdout",
          "text": [
            "[[   1  162 2528    0    0    0    0    0    0    0    0    0    0    0\n",
            "     0    0    0    0    0    0    0    0    0    0    0    0    0    0\n",
            "     0    0    0    0    0    0    0    0    0    0    0    0    0    0\n",
            "     0    0    0    0    0    0    0    0]\n",
            " [  76  214  144   41   34   10    0    0    0    0    0    0    0    0\n",
            "     0    0    0    0    0    0    0    0    0    0    0    0    0    0\n",
            "     0    0    0    0    0    0    0    0    0    0    0    0    0    0\n",
            "     0    0    0    0    0    0    0    0]\n",
            " [  59   10    1   10    1    0    0    0    0    0    0    0    0    0\n",
            "     0    0    0    0    0    0    0    0    0    0    0    0    0    0\n",
            "     0    0    0    0    0    0    0    0    0    0    0    0    0    0\n",
            "     0    0    0    0    0    0    0    0]\n",
            " [   1  607 2529    7   10   83   51    1  163    1 2530    1    6  608\n",
            "   762 2531    6    3  763 1304    3   89  148   12    3   16    3   16\n",
            "     3   89  608   16    0    0    0    0    0    0    0    0    0    0\n",
            "     0    0    0    0    0    0    0    0]\n",
            " [   1 2532  882    0    0    0    0    0    0    0    0    0    0    0\n",
            "     0    0    0    0    0    0    0    0    0    0    0    0    0    0\n",
            "     0    0    0    0    0    0    0    0    0    0    0    0    0    0\n",
            "     0    0    0    0    0    0    0    0]]\n",
            "[[  48  103   20    0    0    0    0    0    0    0    0    0    0    0\n",
            "     0    0    0    0    0    0    0    0    0    0    0    0    0    0\n",
            "     0    0    0    0    0    0    0    0    0    0    0    0    0    0\n",
            "     0    0    0    0    0    0    0    0]\n",
            " [  56  123  125    0    0    0    0    0    0    0    0    0    0    0\n",
            "     0    0    0    0    0    0    0    0    0    0    0    0    0    0\n",
            "     0    0    0    0    0    0    0    0    0    0    0    0    0    0\n",
            "     0    0    0    0    0    0    0    0]\n",
            " [ 396   65  175    0    0    0    0    0    0    0    0    0    0    0\n",
            "     0    0    0    0    0    0    0    0    0    0    0    0    0    0\n",
            "     0    0    0    0    0    0    0    0    0    0    0    0    0    0\n",
            "     0    0    0    0    0    0    0    0]\n",
            " [5356  214    4    0    0    0    0    0    0    0    0    0    0    0\n",
            "     0    0    0    0    0    0    0    0    0    0    0    0    0    0\n",
            "     0    0    0    0    0    0    0    0    0    0    0    0    0    0\n",
            "     0    0    0    0    0    0    0    0]\n",
            " [  48   18  377    0    0    0    0    0    0    0    0    0    0    0\n",
            "     0    0    0    0    0    0    0    0    0    0    0    0    0    0\n",
            "     0    0    0    0    0    0    0    0    0    0    0    0    0    0\n",
            "     0    0    0    0    0    0    0    0]]\n",
            "[[  47  181   20    0    0    0    0    0    0    0    0    0    0    0\n",
            "     0    0    0    0    0    0    0    0    0    0    0    0    0    0\n",
            "     0    0    0    0    0    0    0    0    0    0    0    0    0    0\n",
            "     0    0    0    0    0    0    0    0]\n",
            " [ 258  707   38  258   38 1960    0    0    0    0    0    0    0    0\n",
            "     0    0    0    0    0    0    0    0    0    0    0    0    0    0\n",
            "     0    0    0    0    0    0    0    0    0    0    0    0    0    0\n",
            "     0    0    0    0    0    0    0    0]\n",
            " [  47  201  152    0    0    0    0    0    0    0    0    0    0    0\n",
            "     0    0    0    0    0    0    0    0    0    0    0    0    0    0\n",
            "     0    0    0    0    0    0    0    0    0    0    0    0    0    0\n",
            "     0    0    0    0    0    0    0    0]\n",
            " [  47   97    9    0    0    0    0    0    0    0    0    0    0    0\n",
            "     0    0    0    0    0    0    0    0    0    0    0    0    0    0\n",
            "     0    0    0    0    0    0    0    0    0    0    0    0    0    0\n",
            "     0    0    0    0    0    0    0    0]\n",
            " [ 313   65  138    0    0    0    0    0    0    0    0    0    0    0\n",
            "     0    0    0    0    0    0    0    0    0    0    0    0    0    0\n",
            "     0    0    0    0    0    0    0    0    0    0    0    0    0    0\n",
            "     0    0    0    0    0    0    0    0]]\n",
            "[[  13   14    5    0    0    0    0    0    0    0    0    0    0    0\n",
            "     0    0    0    0    0    0    0    0    0    0    0    0    0    0\n",
            "     0    0    0    0    0    0    0    0    0    0    0    0    0    0\n",
            "     0    0    0    0    0    0    0    0]\n",
            " [  13    2 2442    0    0    0    0    0    0    0    0    0    0    0\n",
            "     0    0    0    0    0    0    0    0    0    0    0    0    0    0\n",
            "     0    0    0    0    0    0    0    0    0    0    0    0    0    0\n",
            "     0    0    0    0    0    0    0    0]\n",
            " [ 120   73 2510    0    0    0    0    0    0    0    0    0    0    0\n",
            "     0    0    0    0    0    0    0    0    0    0    0    0    0    0\n",
            "     0    0    0    0    0    0    0    0    0    0    0    0    0    0\n",
            "     0    0    0    0    0    0    0    0]\n",
            " [  29   22 2338   29   22 2511    0    0    0    0    0    0    0    0\n",
            "     0    0    0    0    0    0    0    0    0    0    0    0    0    0\n",
            "     0    0    0    0    0    0    0    0    0    0    0    0    0    0\n",
            "     0    0    0    0    0    0    0    0]\n",
            " [  30   65   71    0    0    0    0    0    0    0    0    0    0    0\n",
            "     0    0    0    0    0    0    0    0    0    0    0    0    0    0\n",
            "     0    0    0    0    0    0    0    0    0    0    0    0    0    0\n",
            "     0    0    0    0    0    0    0    0]]\n"
          ]
        }
      ]
    },
    {
      "cell_type": "code",
      "source": [
        "model = tf.keras.Sequential([    \n",
        "  tf.keras.layers.Embedding(20000, 100, input_length=50),    \n",
        "  tf.keras.layers.LSTM(128),    \n",
        "  tf.keras.layers.Dense(1, activation='sigmoid')])\n",
        "es = EarlyStopping(monitor='val_loss', mode='min', verbose=1, patience=4)\n",
        "mc = ModelCheckpoint('best_taste_model.h5', monitor='val_acc', mode='max', verbose=1, save_best_only=False)\n"
      ],
      "metadata": {
        "id": "2fwb8iBU2BoY"
      },
      "execution_count": 182,
      "outputs": []
    },
    {
      "cell_type": "code",
      "source": [
        "model.compile(optimizer='rmsprop', loss='binary_crossentropy', metrics=['accuracy'])\n",
        "model.summary()\n",
        "history = model.fit(train_taste_x, train_taste_y, epochs=10, callbacks=[es, mc], batch_size=64, validation_split=0.2)"
      ],
      "metadata": {
        "colab": {
          "base_uri": "https://localhost:8080/"
        },
        "id": "hiWQjkUD2w9D",
        "outputId": "292fce7f-6dce-46aa-f3f5-989439cf01f1"
      },
      "execution_count": 183,
      "outputs": [
        {
          "output_type": "stream",
          "name": "stdout",
          "text": [
            "Model: \"sequential_21\"\n",
            "_________________________________________________________________\n",
            " Layer (type)                Output Shape              Param #   \n",
            "=================================================================\n",
            " embedding_22 (Embedding)    (None, 50, 100)           2000000   \n",
            "                                                                 \n",
            " lstm_22 (LSTM)              (None, 128)               117248    \n",
            "                                                                 \n",
            " dense_22 (Dense)            (None, 1)                 129       \n",
            "                                                                 \n",
            "=================================================================\n",
            "Total params: 2,117,377\n",
            "Trainable params: 2,117,377\n",
            "Non-trainable params: 0\n",
            "_________________________________________________________________\n",
            "Epoch 1/10\n",
            "97/97 [==============================] - ETA: 0s - loss: 0.1863 - accuracy: 0.9596\n",
            "Epoch 1: saving model to best_taste_model.h5\n",
            "97/97 [==============================] - 35s 310ms/step - loss: 0.1863 - accuracy: 0.9596 - val_loss: 0.1848 - val_accuracy: 0.9540\n",
            "Epoch 2/10\n",
            "97/97 [==============================] - ETA: 0s - loss: 0.0917 - accuracy: 0.9793\n",
            "Epoch 2: saving model to best_taste_model.h5\n",
            "97/97 [==============================] - 18s 191ms/step - loss: 0.0917 - accuracy: 0.9793 - val_loss: 0.0628 - val_accuracy: 0.9877\n",
            "Epoch 3/10\n",
            "97/97 [==============================] - ETA: 0s - loss: 0.0449 - accuracy: 0.9911\n",
            "Epoch 3: saving model to best_taste_model.h5\n",
            "97/97 [==============================] - 18s 190ms/step - loss: 0.0449 - accuracy: 0.9911 - val_loss: 0.0651 - val_accuracy: 0.9877\n",
            "Epoch 4/10\n",
            "97/97 [==============================] - ETA: 0s - loss: 0.0367 - accuracy: 0.9938\n",
            "Epoch 4: saving model to best_taste_model.h5\n",
            "97/97 [==============================] - 18s 188ms/step - loss: 0.0367 - accuracy: 0.9938 - val_loss: 0.0612 - val_accuracy: 0.9864\n",
            "Epoch 5/10\n",
            "97/97 [==============================] - ETA: 0s - loss: 0.0329 - accuracy: 0.9947\n",
            "Epoch 5: saving model to best_taste_model.h5\n",
            "97/97 [==============================] - 18s 186ms/step - loss: 0.0329 - accuracy: 0.9947 - val_loss: 0.0618 - val_accuracy: 0.9890\n",
            "Epoch 6/10\n",
            "97/97 [==============================] - ETA: 0s - loss: 0.0324 - accuracy: 0.9947\n",
            "Epoch 6: saving model to best_taste_model.h5\n",
            "97/97 [==============================] - 18s 187ms/step - loss: 0.0324 - accuracy: 0.9947 - val_loss: 0.0486 - val_accuracy: 0.9916\n",
            "Epoch 7/10\n",
            "97/97 [==============================] - ETA: 0s - loss: 0.0281 - accuracy: 0.9955\n",
            "Epoch 7: saving model to best_taste_model.h5\n",
            "97/97 [==============================] - 20s 210ms/step - loss: 0.0281 - accuracy: 0.9955 - val_loss: 0.0875 - val_accuracy: 0.9877\n",
            "Epoch 8/10\n",
            "97/97 [==============================] - ETA: 0s - loss: 0.0323 - accuracy: 0.9950\n",
            "Epoch 8: saving model to best_taste_model.h5\n",
            "97/97 [==============================] - 19s 197ms/step - loss: 0.0323 - accuracy: 0.9950 - val_loss: 0.0594 - val_accuracy: 0.9896\n",
            "Epoch 9/10\n",
            "97/97 [==============================] - ETA: 0s - loss: 0.0360 - accuracy: 0.9942\n",
            "Epoch 9: saving model to best_taste_model.h5\n",
            "97/97 [==============================] - 19s 195ms/step - loss: 0.0360 - accuracy: 0.9942 - val_loss: 0.0581 - val_accuracy: 0.9896\n",
            "Epoch 10/10\n",
            "97/97 [==============================] - ETA: 0s - loss: 0.0262 - accuracy: 0.9959\n",
            "Epoch 10: saving model to best_taste_model.h5\n",
            "97/97 [==============================] - 19s 196ms/step - loss: 0.0262 - accuracy: 0.9959 - val_loss: 0.0651 - val_accuracy: 0.9896\n",
            "Epoch 10: early stopping\n"
          ]
        }
      ]
    },
    {
      "cell_type": "code",
      "source": [
        "test_x = tokenizer.texts_to_sequences(test_taste_data['context'])\n",
        "test_x = pad_sequences(test_x, padding='post',maxlen =50)\n",
        "test_y = np.array(test_taste_data['key'])\n",
        "\n",
        "model.evaluate(test_x,test_y)"
      ],
      "metadata": {
        "colab": {
          "base_uri": "https://localhost:8080/"
        },
        "id": "eUKjAE7bVlWw",
        "outputId": "4e0953e1-f3f7-474b-c5d6-f24709e1908d"
      },
      "execution_count": 184,
      "outputs": [
        {
          "output_type": "stream",
          "name": "stdout",
          "text": [
            "61/61 [==============================] - 2s 30ms/step - loss: 0.0470 - accuracy: 0.9927\n"
          ]
        },
        {
          "output_type": "execute_result",
          "data": {
            "text/plain": [
              "[0.04700787737965584, 0.9927386045455933]"
            ]
          },
          "metadata": {},
          "execution_count": 184
        }
      ]
    },
    {
      "cell_type": "code",
      "source": [
        "model2 = tf.keras.Sequential([    \n",
        "  tf.keras.layers.Embedding(20000, 100, input_length=50),    \n",
        "  tf.keras.layers.LSTM(128),    \n",
        "  tf.keras.layers.Dense(1, activation='sigmoid')])\n",
        "es = EarlyStopping(monitor='val_loss', mode='min', verbose=1, patience=4)\n",
        "mc = ModelCheckpoint('best_cost_model.h5', monitor='val_acc', mode='max', verbose=1, save_best_only=False)"
      ],
      "metadata": {
        "id": "buWBtk0pVXeu"
      },
      "execution_count": 185,
      "outputs": []
    },
    {
      "cell_type": "code",
      "source": [
        "model2.compile(optimizer='rmsprop', loss='binary_crossentropy', metrics=['accuracy'])\n",
        "model2.summary()\n",
        "history = model2.fit(train_cost_x, train_cost_y, epochs=10, callbacks=[es, mc], batch_size=64, validation_split=0.2)"
      ],
      "metadata": {
        "colab": {
          "base_uri": "https://localhost:8080/"
        },
        "id": "KC80EUTJVYCR",
        "outputId": "bbe3309e-8f20-4938-9fb8-45642d35b83b"
      },
      "execution_count": 186,
      "outputs": [
        {
          "output_type": "stream",
          "name": "stdout",
          "text": [
            "Model: \"sequential_22\"\n",
            "_________________________________________________________________\n",
            " Layer (type)                Output Shape              Param #   \n",
            "=================================================================\n",
            " embedding_23 (Embedding)    (None, 50, 100)           2000000   \n",
            "                                                                 \n",
            " lstm_23 (LSTM)              (None, 128)               117248    \n",
            "                                                                 \n",
            " dense_23 (Dense)            (None, 1)                 129       \n",
            "                                                                 \n",
            "=================================================================\n",
            "Total params: 2,117,377\n",
            "Trainable params: 2,117,377\n",
            "Non-trainable params: 0\n",
            "_________________________________________________________________\n",
            "Epoch 1/10\n",
            "9/9 [==============================] - ETA: 0s - loss: 0.6371 - accuracy: 0.6991\n",
            "Epoch 1: saving model to best_cost_model.h5\n",
            "9/9 [==============================] - 6s 305ms/step - loss: 0.6371 - accuracy: 0.6991 - val_loss: 0.6474 - val_accuracy: 0.6620\n",
            "Epoch 2/10\n",
            "9/9 [==============================] - ETA: 0s - loss: 0.6245 - accuracy: 0.6991\n",
            "Epoch 2: saving model to best_cost_model.h5\n",
            "9/9 [==============================] - 2s 209ms/step - loss: 0.6245 - accuracy: 0.6991 - val_loss: 0.6497 - val_accuracy: 0.6620\n",
            "Epoch 3/10\n",
            "9/9 [==============================] - ETA: 0s - loss: 0.6146 - accuracy: 0.6991\n",
            "Epoch 3: saving model to best_cost_model.h5\n",
            "9/9 [==============================] - 2s 201ms/step - loss: 0.6146 - accuracy: 0.6991 - val_loss: 0.6446 - val_accuracy: 0.6620\n",
            "Epoch 4/10\n",
            "9/9 [==============================] - ETA: 0s - loss: 0.6163 - accuracy: 0.6991\n",
            "Epoch 4: saving model to best_cost_model.h5\n",
            "9/9 [==============================] - 2s 194ms/step - loss: 0.6163 - accuracy: 0.6991 - val_loss: 0.6500 - val_accuracy: 0.6620\n",
            "Epoch 5/10\n",
            "9/9 [==============================] - ETA: 0s - loss: 0.6180 - accuracy: 0.6991\n",
            "Epoch 5: saving model to best_cost_model.h5\n",
            "9/9 [==============================] - 2s 203ms/step - loss: 0.6180 - accuracy: 0.6991 - val_loss: 0.6398 - val_accuracy: 0.6620\n",
            "Epoch 6/10\n",
            "9/9 [==============================] - ETA: 0s - loss: 0.6168 - accuracy: 0.6991\n",
            "Epoch 6: saving model to best_cost_model.h5\n",
            "9/9 [==============================] - 2s 199ms/step - loss: 0.6168 - accuracy: 0.6991 - val_loss: 0.6411 - val_accuracy: 0.6620\n",
            "Epoch 7/10\n",
            "9/9 [==============================] - ETA: 0s - loss: 0.6153 - accuracy: 0.6991\n",
            "Epoch 7: saving model to best_cost_model.h5\n",
            "9/9 [==============================] - 2s 207ms/step - loss: 0.6153 - accuracy: 0.6991 - val_loss: 0.6398 - val_accuracy: 0.6620\n",
            "Epoch 8/10\n",
            "9/9 [==============================] - ETA: 0s - loss: 0.6157 - accuracy: 0.6991\n",
            "Epoch 8: saving model to best_cost_model.h5\n",
            "9/9 [==============================] - 2s 202ms/step - loss: 0.6157 - accuracy: 0.6991 - val_loss: 0.6499 - val_accuracy: 0.6620\n",
            "Epoch 9/10\n",
            "9/9 [==============================] - ETA: 0s - loss: 0.6126 - accuracy: 0.6991\n",
            "Epoch 9: saving model to best_cost_model.h5\n",
            "9/9 [==============================] - 2s 220ms/step - loss: 0.6126 - accuracy: 0.6991 - val_loss: 0.6511 - val_accuracy: 0.6620\n",
            "Epoch 10/10\n",
            "9/9 [==============================] - ETA: 0s - loss: 0.6126 - accuracy: 0.6991\n",
            "Epoch 10: saving model to best_cost_model.h5\n",
            "9/9 [==============================] - 2s 203ms/step - loss: 0.6126 - accuracy: 0.6991 - val_loss: 0.6399 - val_accuracy: 0.6620\n"
          ]
        }
      ]
    },
    {
      "cell_type": "code",
      "source": [
        "test_x = tokenizer.texts_to_sequences(test_cost_data['context'])\n",
        "test_x = pad_sequences(test_x, padding='post',maxlen =50)\n",
        "test_y = np.array(test_cost_data['key'])\n",
        "\n",
        "model2.evaluate(test_x,test_y)"
      ],
      "metadata": {
        "colab": {
          "base_uri": "https://localhost:8080/"
        },
        "id": "ju78IIFk4ZWh",
        "outputId": "8ffd4116-c79e-45a8-c204-ba5a6c73e375"
      },
      "execution_count": 187,
      "outputs": [
        {
          "output_type": "stream",
          "name": "stdout",
          "text": [
            "6/6 [==============================] - 0s 28ms/step - loss: 0.6406 - accuracy: 0.6610\n"
          ]
        },
        {
          "output_type": "execute_result",
          "data": {
            "text/plain": [
              "[0.6405514478683472, 0.6610169410705566]"
            ]
          },
          "metadata": {},
          "execution_count": 187
        }
      ]
    },
    {
      "cell_type": "code",
      "source": [
        "model3 = tf.keras.Sequential([    \n",
        "  tf.keras.layers.Embedding(20000, 100, input_length=50),    \n",
        "  tf.keras.layers.LSTM(128),    \n",
        "  tf.keras.layers.Dense(1, activation='sigmoid')])\n",
        "es = EarlyStopping(monitor='val_loss', mode='min', verbose=1, patience=4)\n",
        "mc = ModelCheckpoint('best_visit_model.h5', monitor='val_acc', mode='max', verbose=1, save_best_only=False)"
      ],
      "metadata": {
        "id": "bHkOlfIiVtvc"
      },
      "execution_count": 188,
      "outputs": []
    },
    {
      "cell_type": "code",
      "source": [
        "model3.compile(optimizer='rmsprop', loss='binary_crossentropy', metrics=['accuracy'])\n",
        "model3.summary()\n",
        "history = model3.fit(train_visit_x, train_visit_y, epochs=10, callbacks=[es, mc], batch_size=64, validation_split=0.2)"
      ],
      "metadata": {
        "colab": {
          "base_uri": "https://localhost:8080/"
        },
        "id": "1x8sP471VyIN",
        "outputId": "26977a55-7ec5-4b33-b034-4f9dcbf63294"
      },
      "execution_count": 189,
      "outputs": [
        {
          "output_type": "stream",
          "name": "stdout",
          "text": [
            "Model: \"sequential_23\"\n",
            "_________________________________________________________________\n",
            " Layer (type)                Output Shape              Param #   \n",
            "=================================================================\n",
            " embedding_24 (Embedding)    (None, 50, 100)           2000000   \n",
            "                                                                 \n",
            " lstm_24 (LSTM)              (None, 128)               117248    \n",
            "                                                                 \n",
            " dense_24 (Dense)            (None, 1)                 129       \n",
            "                                                                 \n",
            "=================================================================\n",
            "Total params: 2,117,377\n",
            "Trainable params: 2,117,377\n",
            "Non-trainable params: 0\n",
            "_________________________________________________________________\n",
            "Epoch 1/10\n",
            "3/3 [==============================] - ETA: 0s - loss: 0.6200 - accuracy: 0.8228\n",
            "Epoch 1: saving model to best_visit_model.h5\n",
            "3/3 [==============================] - 5s 640ms/step - loss: 0.6200 - accuracy: 0.8228 - val_loss: 1.3552 - val_accuracy: 0.6750\n",
            "Epoch 2/10\n",
            "3/3 [==============================] - ETA: 0s - loss: 0.7061 - accuracy: 0.8228\n",
            "Epoch 2: saving model to best_visit_model.h5\n",
            "3/3 [==============================] - 1s 223ms/step - loss: 0.7061 - accuracy: 0.8228 - val_loss: 0.7174 - val_accuracy: 0.6750\n",
            "Epoch 3/10\n",
            "3/3 [==============================] - ETA: 0s - loss: 0.4771 - accuracy: 0.8228\n",
            "Epoch 3: saving model to best_visit_model.h5\n",
            "3/3 [==============================] - 1s 225ms/step - loss: 0.4771 - accuracy: 0.8228 - val_loss: 0.8389 - val_accuracy: 0.6750\n",
            "Epoch 4/10\n",
            "3/3 [==============================] - ETA: 0s - loss: 0.4840 - accuracy: 0.8228\n",
            "Epoch 4: saving model to best_visit_model.h5\n",
            "3/3 [==============================] - 1s 212ms/step - loss: 0.4840 - accuracy: 0.8228 - val_loss: 0.7039 - val_accuracy: 0.6750\n",
            "Epoch 5/10\n",
            "3/3 [==============================] - ETA: 0s - loss: 0.4665 - accuracy: 0.8228\n",
            "Epoch 5: saving model to best_visit_model.h5\n",
            "3/3 [==============================] - 1s 206ms/step - loss: 0.4665 - accuracy: 0.8228 - val_loss: 0.6728 - val_accuracy: 0.6750\n",
            "Epoch 6/10\n",
            "3/3 [==============================] - ETA: 0s - loss: 0.4714 - accuracy: 0.8228\n",
            "Epoch 6: saving model to best_visit_model.h5\n",
            "3/3 [==============================] - 1s 216ms/step - loss: 0.4714 - accuracy: 0.8228 - val_loss: 0.7066 - val_accuracy: 0.6750\n",
            "Epoch 7/10\n",
            "3/3 [==============================] - ETA: 0s - loss: 0.4796 - accuracy: 0.8228\n",
            "Epoch 7: saving model to best_visit_model.h5\n",
            "3/3 [==============================] - 1s 222ms/step - loss: 0.4796 - accuracy: 0.8228 - val_loss: 0.7596 - val_accuracy: 0.6750\n",
            "Epoch 8/10\n",
            "3/3 [==============================] - ETA: 0s - loss: 0.4748 - accuracy: 0.8228\n",
            "Epoch 8: saving model to best_visit_model.h5\n",
            "3/3 [==============================] - 1s 285ms/step - loss: 0.4748 - accuracy: 0.8228 - val_loss: 0.6339 - val_accuracy: 0.6750\n",
            "Epoch 9/10\n",
            "3/3 [==============================] - ETA: 0s - loss: 0.4789 - accuracy: 0.8228\n",
            "Epoch 9: saving model to best_visit_model.h5\n",
            "3/3 [==============================] - 1s 223ms/step - loss: 0.4789 - accuracy: 0.8228 - val_loss: 0.7061 - val_accuracy: 0.6750\n",
            "Epoch 10/10\n",
            "3/3 [==============================] - ETA: 0s - loss: 0.4750 - accuracy: 0.8228\n",
            "Epoch 10: saving model to best_visit_model.h5\n",
            "3/3 [==============================] - 1s 216ms/step - loss: 0.4750 - accuracy: 0.8228 - val_loss: 0.6400 - val_accuracy: 0.6750\n"
          ]
        }
      ]
    },
    {
      "cell_type": "code",
      "source": [
        "test_x = tokenizer.texts_to_sequences(test_visit_data['context'])\n",
        "test_x = pad_sequences(test_x, padding='post',maxlen =50)\n",
        "test_y = np.array(test_visit_data['key'])\n",
        "\n",
        "model3.evaluate(test_x,test_y)"
      ],
      "metadata": {
        "colab": {
          "base_uri": "https://localhost:8080/"
        },
        "id": "8a3LjgpXVzZA",
        "outputId": "aae2bc9c-0232-4ea8-8bca-a5e4153f1c8b"
      },
      "execution_count": 190,
      "outputs": [
        {
          "output_type": "stream",
          "name": "stdout",
          "text": [
            "2/2 [==============================] - 0s 29ms/step - loss: 0.4065 - accuracy: 0.8980\n"
          ]
        },
        {
          "output_type": "execute_result",
          "data": {
            "text/plain": [
              "[0.4064987301826477, 0.8979591727256775]"
            ]
          },
          "metadata": {},
          "execution_count": 190
        }
      ]
    },
    {
      "cell_type": "code",
      "source": [
        "model4 = tf.keras.Sequential([    \n",
        "  tf.keras.layers.Embedding(20000, 100, input_length=50),    \n",
        "  tf.keras.layers.LSTM(128),    \n",
        "  tf.keras.layers.Dense(1, activation='sigmoid')])\n",
        "es = EarlyStopping(monitor='val_loss', mode='min', verbose=1, patience=4)\n",
        "mc = ModelCheckpoint('best_atmosphere_model.h5', monitor='val_acc', mode='max', verbose=1, save_best_only=False)"
      ],
      "metadata": {
        "id": "33WajXqeWEPp"
      },
      "execution_count": 191,
      "outputs": []
    },
    {
      "cell_type": "code",
      "source": [
        "model4.compile(optimizer='rmsprop', loss='binary_crossentropy', metrics=['accuracy'])\n",
        "model4.summary()\n",
        "history = model4.fit(train_atmosphere_x, train_atmosphere_y, epochs=10, callbacks=[es, mc], batch_size=64, validation_split=0.2)"
      ],
      "metadata": {
        "colab": {
          "base_uri": "https://localhost:8080/"
        },
        "id": "7yD936MgWEHq",
        "outputId": "71c62be5-a623-461f-b129-a3f5d516c388"
      },
      "execution_count": 192,
      "outputs": [
        {
          "output_type": "stream",
          "name": "stdout",
          "text": [
            "Model: \"sequential_24\"\n",
            "_________________________________________________________________\n",
            " Layer (type)                Output Shape              Param #   \n",
            "=================================================================\n",
            " embedding_25 (Embedding)    (None, 50, 100)           2000000   \n",
            "                                                                 \n",
            " lstm_25 (LSTM)              (None, 128)               117248    \n",
            "                                                                 \n",
            " dense_25 (Dense)            (None, 1)                 129       \n",
            "                                                                 \n",
            "=================================================================\n",
            "Total params: 2,117,377\n",
            "Trainable params: 2,117,377\n",
            "Non-trainable params: 0\n",
            "_________________________________________________________________\n",
            "Epoch 1/10\n",
            "13/13 [==============================] - ETA: 0s - loss: 0.3081 - accuracy: 0.9450\n",
            "Epoch 1: saving model to best_atmosphere_model.h5\n",
            "13/13 [==============================] - 8s 347ms/step - loss: 0.3081 - accuracy: 0.9450 - val_loss: 0.3087 - val_accuracy: 0.9073\n",
            "Epoch 2/10\n",
            "13/13 [==============================] - ETA: 0s - loss: 0.2133 - accuracy: 0.9450\n",
            "Epoch 2: saving model to best_atmosphere_model.h5\n",
            "13/13 [==============================] - 3s 199ms/step - loss: 0.2133 - accuracy: 0.9450 - val_loss: 0.3157 - val_accuracy: 0.9073\n",
            "Epoch 3/10\n",
            "13/13 [==============================] - ETA: 0s - loss: 0.2166 - accuracy: 0.9450\n",
            "Epoch 3: saving model to best_atmosphere_model.h5\n",
            "13/13 [==============================] - 3s 196ms/step - loss: 0.2166 - accuracy: 0.9450 - val_loss: 0.3088 - val_accuracy: 0.9073\n",
            "Epoch 4/10\n",
            "13/13 [==============================] - ETA: 0s - loss: 0.2185 - accuracy: 0.9450\n",
            "Epoch 4: saving model to best_atmosphere_model.h5\n",
            "13/13 [==============================] - 3s 201ms/step - loss: 0.2185 - accuracy: 0.9450 - val_loss: 0.3232 - val_accuracy: 0.9073\n",
            "Epoch 5/10\n",
            "13/13 [==============================] - ETA: 0s - loss: 0.2147 - accuracy: 0.9450\n",
            "Epoch 5: saving model to best_atmosphere_model.h5\n",
            "13/13 [==============================] - 3s 198ms/step - loss: 0.2147 - accuracy: 0.9450 - val_loss: 0.3198 - val_accuracy: 0.9073\n",
            "Epoch 5: early stopping\n"
          ]
        }
      ]
    },
    {
      "cell_type": "code",
      "source": [
        "test_x = tokenizer.texts_to_sequences(test_atmosphere_data['context'])\n",
        "test_x = pad_sequences(test_x, padding='post',maxlen =50)\n",
        "test_y = np.array(test_atmosphere_data['key'])\n",
        "\n",
        "model4.evaluate(test_x,test_y)"
      ],
      "metadata": {
        "colab": {
          "base_uri": "https://localhost:8080/"
        },
        "id": "3fRyChE4WDzb",
        "outputId": "f868fd7b-8386-4206-e4ea-1ffb2abffffd"
      },
      "execution_count": 193,
      "outputs": [
        {
          "output_type": "stream",
          "name": "stdout",
          "text": [
            "8/8 [==============================] - 1s 29ms/step - loss: 0.2231 - accuracy: 0.9414\n"
          ]
        },
        {
          "output_type": "execute_result",
          "data": {
            "text/plain": [
              "[0.22311000525951385, 0.94140625]"
            ]
          },
          "metadata": {},
          "execution_count": 193
        }
      ]
    }
  ]
}