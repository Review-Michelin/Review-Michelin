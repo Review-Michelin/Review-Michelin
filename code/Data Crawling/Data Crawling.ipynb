{
 "cells": [
  {
   "cell_type": "markdown",
   "id": "c4094a9d",
   "metadata": {},
   "source": [
    "# 1. 라이브러리 호출"
   ]
  },
  {
   "cell_type": "code",
   "execution_count": 79,
   "id": "d1855f3a",
   "metadata": {},
   "outputs": [],
   "source": [
    "import requests\n",
    "import pandas as pd\n",
    "from selenium import webdriver\n",
    "from webdriver_manager.chrome import ChromeDriverManager\n",
    "from selenium.webdriver.common.keys import Keys\n",
    "from selenium.common.exceptions import NoSuchElementException\n",
    "from selenium.common.exceptions import TimeoutException\n",
    "from selenium.webdriver.common.desired_capabilities import DesiredCapabilities\n",
    "\n",
    "import time\n",
    "import re\n",
    "import csv \n",
    "import glob\n",
    "import numpy as np\n",
    "import os\n",
    "import matplotlib.pyplot as plt\n",
    "import matplotlib as mpl\n",
    "import matplotlib.font_manager as fm\n",
    "import seaborn as sns\n",
    "\n",
    "from bs4 import BeautifulSoup\n",
    "from tqdm import tqdm"
   ]
  },
  {
   "cell_type": "code",
   "execution_count": 80,
   "id": "d8c5b4d5",
   "metadata": {},
   "outputs": [],
   "source": [
    "#지역, 식당 URL을 저장하기위한 딕셔너리\n",
    "place_url_dic={}\n",
    "#지역+식당 장소만을 저장하기 위한 배열\n",
    "place_name_list=[]\n",
    "#최종 배열\n",
    "place_url_arr=[]"
   ]
  },
  {
   "cell_type": "markdown",
   "id": "0698b7b8",
   "metadata": {},
   "source": [
    "# 2. 식당별 url 추출"
   ]
  },
  {
   "cell_type": "code",
   "execution_count": 81,
   "id": "29d6e2db",
   "metadata": {},
   "outputs": [],
   "source": [
    "def extract_url():\n",
    "    #식당의 수를 세기 위한 변수(최대 75개)\n",
    "    num=1\n",
    "    #동적 크롤링을 위한 크롬드라이버\n",
    "    #driver = webdriver.Chrome(executable_path=r'D:\\temp\\chromedriver.exe')\n",
    "    driver = webdriver.Chrome(ChromeDriverManager().install())\n",
    "    driver.implicitly_wait(6)\n",
    "\n",
    "    #사용자로부터 원하는 지역 검색\n",
    "    place = \"배곧\" \n",
    "    place = place.replace(' ', '') \n",
    "    place_url=\"https://m.map.naver.com/search2/search.naver?query={}맛집\"\n",
    "\n",
    "    #url접속\n",
    "    driver.get(place_url.format(place))\n",
    "\n",
    "    #식당 리스트를 가지고 있는 태그 추출\n",
    "\n",
    "    #식당 이름 추출\n",
    "    while num<=75:\n",
    "        restaurant_name=driver.find_element_by_css_selector('#ct > div.search_listview._content._ctList > ul>li:nth-child({}) > div.item_info > a.a_item.a_item_distance._linkSiteview > div > strong'.format(num))\n",
    "        restaurant_name_text=restaurant_name.text\n",
    "        place_name_list.append(place+\" \"+restaurant_name_text)\n",
    "        print(place+\" \"+restaurant_name_text)\n",
    "        num+=1\n",
    "\n",
    "    #개별 URL추출\n",
    "    for i, keyword in enumerate(place_name_list):\n",
    "        try:\n",
    "            #검색 url 만들기\n",
    "            naver_map_search_url = f'https://map.naver.com/v5/search/{keyword}/place' \n",
    "            driver.get(naver_map_search_url) #검색 url 접속, 즉 검색하기\n",
    "            \n",
    "            time.sleep(1) \n",
    "            cu = driver.current_url # 검색이 성공된 플레이스에 대한 개별 페이지\n",
    "            \n",
    "            res_code = re.findall(r\"place/(\\d+)\", cu)\n",
    "            final_url = 'https://pcmap.place.naver.com/restaurant/'+res_code[0]+'/review/visitor#'\n",
    "            \n",
    "            place_url_dic={'region':place, 'name':keyword,'url':final_url}\n",
    "            place_url_arr.append(place_url_dic)\n",
    "            print(place+\" \"+keyword+\" : \"+final_url)\n",
    "        except IndexError:\n",
    "            place_url_dic={'region':place, 'name':keyword,'url':'none'}\n",
    "            place_url_arr.append(place_url_dic)\n",
    "            print(place+\" \"+keyword+\" : none\")\n",
    "    \n"
   ]
  },
  {
   "cell_type": "markdown",
   "id": "f45f095f",
   "metadata": {},
   "source": [
    "## 2-(1) 식당별로 추출한 url csv 형태로 저장"
   ]
  },
  {
   "cell_type": "code",
   "execution_count": 82,
   "id": "09c7d524",
   "metadata": {},
   "outputs": [],
   "source": [
    "def place_url_csv():\n",
    "    with open('place_name_url.csv', 'w', newline='') as csv_file:\n",
    "        fieldnames = ['region', 'name','url']\n",
    "        writer = csv.DictWriter(csv_file, fieldnames=fieldnames)\n",
    "        writer.writeheader()\n",
    "        for data in place_url_arr:\n",
    "            writer.writerow(data)"
   ]
  },
  {
   "cell_type": "markdown",
   "id": "2db5dca8",
   "metadata": {},
   "source": [
    "## 2-(2) 추출한 url의 csv파일 불러오기"
   ]
  },
  {
   "cell_type": "code",
   "execution_count": 83,
   "id": "6beffec6",
   "metadata": {},
   "outputs": [],
   "source": [
    "#추출한 url의 csv파일 불러오기\n",
    "place_url_list=pd.read_csv('place_name_url.csv',encoding='utf-8')\n",
    "place_url=place_url_list[['region','name','url']]"
   ]
  },
  {
   "cell_type": "code",
   "execution_count": 84,
   "id": "a874d5af",
   "metadata": {},
   "outputs": [
    {
     "data": {
      "text/plain": [
       "(75, 3)"
      ]
     },
     "execution_count": 84,
     "metadata": {},
     "output_type": "execute_result"
    }
   ],
   "source": [
    "place_url.shape"
   ]
  },
  {
   "cell_type": "markdown",
   "id": "b6b83e6e",
   "metadata": {},
   "source": [
    "## 2-(3) url이 none인 값 제거"
   ]
  },
  {
   "cell_type": "code",
   "execution_count": 85,
   "id": "0f959a06",
   "metadata": {},
   "outputs": [],
   "source": [
    "#url이 none인 값 제거\n",
    "data=pd.DataFrame(place_url)\n",
    "data2=data[data.url!='none']"
   ]
  },
  {
   "cell_type": "markdown",
   "id": "46e0955c",
   "metadata": {},
   "source": [
    "# 3. 네이버 플레이스 방문자 리뷰 정보 추출"
   ]
  },
  {
   "cell_type": "code",
   "execution_count": 86,
   "id": "3dece070",
   "metadata": {},
   "outputs": [],
   "source": [
    "visitor_review_dic={}\n",
    "\n",
    "#방문자 리뷰 정보를 담기 위한 최종 배열\n",
    "visitor_review_arr=[]"
   ]
  },
  {
   "cell_type": "code",
   "execution_count": 87,
   "id": "8f0c7572",
   "metadata": {},
   "outputs": [
    {
     "name": "stdout",
     "output_type": "stream",
     "text": [
      "\n"
     ]
    },
    {
     "name": "stderr",
     "output_type": "stream",
     "text": [
      "[WDM] - ====== WebDriver manager ======\n",
      "[WDM] - Current google-chrome version is 102.0.5005\n",
      "[WDM] - Get LATEST chromedriver version for 102.0.5005 google-chrome\n",
      "[WDM] - Driver [C:\\Users\\jhu56\\.wdm\\drivers\\chromedriver\\win32\\102.0.5005.61\\chromedriver.exe] found in cache\n"
     ]
    },
    {
     "name": "stdout",
     "output_type": "stream",
     "text": [
      "========================\n",
      "배곧 우정횟집식당\n",
      "리뷰 총 개수 : 30\n",
      "========================\n",
      "배곧 소쇄원 배곧본점식당\n"
     ]
    },
    {
     "ename": "WebDriverException",
     "evalue": "Message: chrome not reachable\n  (Session info: chrome=102.0.5005.63)\n",
     "output_type": "error",
     "traceback": [
      "\u001b[1;31m---------------------------------------------------------------------------\u001b[0m",
      "\u001b[1;31mWebDriverException\u001b[0m                        Traceback (most recent call last)",
      "\u001b[1;32m~\\AppData\\Local\\Temp\\ipykernel_8772\\2242645596.py\u001b[0m in \u001b[0;36m<module>\u001b[1;34m\u001b[0m\n\u001b[0;32m     20\u001b[0m         \u001b[1;32mfor\u001b[0m \u001b[0mi\u001b[0m \u001b[1;32min\u001b[0m \u001b[0mrange\u001b[0m\u001b[1;33m(\u001b[0m\u001b[1;36m3\u001b[0m\u001b[1;33m)\u001b[0m\u001b[1;33m:\u001b[0m \u001b[1;31m#리뷰 100개씩만 가져오기 - 시간관계상\u001b[0m\u001b[1;33m\u001b[0m\u001b[1;33m\u001b[0m\u001b[0m\n\u001b[0;32m     21\u001b[0m             \u001b[1;32mtry\u001b[0m\u001b[1;33m:\u001b[0m\u001b[1;33m\u001b[0m\u001b[1;33m\u001b[0m\u001b[0m\n\u001b[1;32m---> 22\u001b[1;33m                 \u001b[0mdriver\u001b[0m\u001b[1;33m.\u001b[0m\u001b[0mfind_element_by_tag_name\u001b[0m\u001b[1;33m(\u001b[0m\u001b[1;34m'body'\u001b[0m\u001b[1;33m)\u001b[0m\u001b[1;33m.\u001b[0m\u001b[0msend_keys\u001b[0m\u001b[1;33m(\u001b[0m\u001b[0mKeys\u001b[0m\u001b[1;33m.\u001b[0m\u001b[0mEND\u001b[0m\u001b[1;33m)\u001b[0m \u001b[1;31m#맨 밑으로 내리기\u001b[0m\u001b[1;33m\u001b[0m\u001b[1;33m\u001b[0m\u001b[0m\n\u001b[0m\u001b[0;32m     23\u001b[0m                 \u001b[0mdriver\u001b[0m\u001b[1;33m.\u001b[0m\u001b[0mfind_element_by_css_selector\u001b[0m\u001b[1;33m(\u001b[0m\u001b[1;34m'#app-root > div > div > div > div:nth-child(7) > div:nth-child(2) > div.place_section._3fSeV > div._2kAri > a'\u001b[0m\u001b[1;33m)\u001b[0m\u001b[1;33m.\u001b[0m\u001b[0mclick\u001b[0m\u001b[1;33m(\u001b[0m\u001b[1;33m)\u001b[0m\u001b[1;33m\u001b[0m\u001b[1;33m\u001b[0m\u001b[0m\n\u001b[0;32m     24\u001b[0m                 \u001b[0mdriver\u001b[0m\u001b[1;33m.\u001b[0m\u001b[0mfind_element_by_tag_name\u001b[0m\u001b[1;33m(\u001b[0m\u001b[1;34m'body'\u001b[0m\u001b[1;33m)\u001b[0m\u001b[1;33m.\u001b[0m\u001b[0msend_keys\u001b[0m\u001b[1;33m(\u001b[0m\u001b[0mKeys\u001b[0m\u001b[1;33m.\u001b[0m\u001b[0mEND\u001b[0m\u001b[1;33m)\u001b[0m\u001b[1;33m\u001b[0m\u001b[1;33m\u001b[0m\u001b[0m\n",
      "\u001b[1;32mc:\\Users\\jhu56\\AppData\\Local\\Programs\\Python\\Python37\\lib\\site-packages\\selenium\\webdriver\\remote\\webdriver.py\u001b[0m in \u001b[0;36mfind_element_by_tag_name\u001b[1;34m(self, name)\u001b[0m\n\u001b[0;32m    528\u001b[0m             \u001b[0melement\u001b[0m \u001b[1;33m=\u001b[0m \u001b[0mdriver\u001b[0m\u001b[1;33m.\u001b[0m\u001b[0mfind_element_by_tag_name\u001b[0m\u001b[1;33m(\u001b[0m\u001b[1;34m'h1'\u001b[0m\u001b[1;33m)\u001b[0m\u001b[1;33m\u001b[0m\u001b[1;33m\u001b[0m\u001b[0m\n\u001b[0;32m    529\u001b[0m         \"\"\"\n\u001b[1;32m--> 530\u001b[1;33m         \u001b[1;32mreturn\u001b[0m \u001b[0mself\u001b[0m\u001b[1;33m.\u001b[0m\u001b[0mfind_element\u001b[0m\u001b[1;33m(\u001b[0m\u001b[0mby\u001b[0m\u001b[1;33m=\u001b[0m\u001b[0mBy\u001b[0m\u001b[1;33m.\u001b[0m\u001b[0mTAG_NAME\u001b[0m\u001b[1;33m,\u001b[0m \u001b[0mvalue\u001b[0m\u001b[1;33m=\u001b[0m\u001b[0mname\u001b[0m\u001b[1;33m)\u001b[0m\u001b[1;33m\u001b[0m\u001b[1;33m\u001b[0m\u001b[0m\n\u001b[0m\u001b[0;32m    531\u001b[0m \u001b[1;33m\u001b[0m\u001b[0m\n\u001b[0;32m    532\u001b[0m     \u001b[1;32mdef\u001b[0m \u001b[0mfind_elements_by_tag_name\u001b[0m\u001b[1;33m(\u001b[0m\u001b[0mself\u001b[0m\u001b[1;33m,\u001b[0m \u001b[0mname\u001b[0m\u001b[1;33m)\u001b[0m\u001b[1;33m:\u001b[0m\u001b[1;33m\u001b[0m\u001b[1;33m\u001b[0m\u001b[0m\n",
      "\u001b[1;32mc:\\Users\\jhu56\\AppData\\Local\\Programs\\Python\\Python37\\lib\\site-packages\\selenium\\webdriver\\remote\\webdriver.py\u001b[0m in \u001b[0;36mfind_element\u001b[1;34m(self, by, value)\u001b[0m\n\u001b[0;32m    976\u001b[0m         return self.execute(Command.FIND_ELEMENT, {\n\u001b[0;32m    977\u001b[0m             \u001b[1;34m'using'\u001b[0m\u001b[1;33m:\u001b[0m \u001b[0mby\u001b[0m\u001b[1;33m,\u001b[0m\u001b[1;33m\u001b[0m\u001b[1;33m\u001b[0m\u001b[0m\n\u001b[1;32m--> 978\u001b[1;33m             'value': value})['value']\n\u001b[0m\u001b[0;32m    979\u001b[0m \u001b[1;33m\u001b[0m\u001b[0m\n\u001b[0;32m    980\u001b[0m     \u001b[1;32mdef\u001b[0m \u001b[0mfind_elements\u001b[0m\u001b[1;33m(\u001b[0m\u001b[0mself\u001b[0m\u001b[1;33m,\u001b[0m \u001b[0mby\u001b[0m\u001b[1;33m=\u001b[0m\u001b[0mBy\u001b[0m\u001b[1;33m.\u001b[0m\u001b[0mID\u001b[0m\u001b[1;33m,\u001b[0m \u001b[0mvalue\u001b[0m\u001b[1;33m=\u001b[0m\u001b[1;32mNone\u001b[0m\u001b[1;33m)\u001b[0m\u001b[1;33m:\u001b[0m\u001b[1;33m\u001b[0m\u001b[1;33m\u001b[0m\u001b[0m\n",
      "\u001b[1;32mc:\\Users\\jhu56\\AppData\\Local\\Programs\\Python\\Python37\\lib\\site-packages\\selenium\\webdriver\\remote\\webdriver.py\u001b[0m in \u001b[0;36mexecute\u001b[1;34m(self, driver_command, params)\u001b[0m\n\u001b[0;32m    319\u001b[0m         \u001b[0mresponse\u001b[0m \u001b[1;33m=\u001b[0m \u001b[0mself\u001b[0m\u001b[1;33m.\u001b[0m\u001b[0mcommand_executor\u001b[0m\u001b[1;33m.\u001b[0m\u001b[0mexecute\u001b[0m\u001b[1;33m(\u001b[0m\u001b[0mdriver_command\u001b[0m\u001b[1;33m,\u001b[0m \u001b[0mparams\u001b[0m\u001b[1;33m)\u001b[0m\u001b[1;33m\u001b[0m\u001b[1;33m\u001b[0m\u001b[0m\n\u001b[0;32m    320\u001b[0m         \u001b[1;32mif\u001b[0m \u001b[0mresponse\u001b[0m\u001b[1;33m:\u001b[0m\u001b[1;33m\u001b[0m\u001b[1;33m\u001b[0m\u001b[0m\n\u001b[1;32m--> 321\u001b[1;33m             \u001b[0mself\u001b[0m\u001b[1;33m.\u001b[0m\u001b[0merror_handler\u001b[0m\u001b[1;33m.\u001b[0m\u001b[0mcheck_response\u001b[0m\u001b[1;33m(\u001b[0m\u001b[0mresponse\u001b[0m\u001b[1;33m)\u001b[0m\u001b[1;33m\u001b[0m\u001b[1;33m\u001b[0m\u001b[0m\n\u001b[0m\u001b[0;32m    322\u001b[0m             response['value'] = self._unwrap_value(\n\u001b[0;32m    323\u001b[0m                 response.get('value', None))\n",
      "\u001b[1;32mc:\\Users\\jhu56\\AppData\\Local\\Programs\\Python\\Python37\\lib\\site-packages\\selenium\\webdriver\\remote\\errorhandler.py\u001b[0m in \u001b[0;36mcheck_response\u001b[1;34m(self, response)\u001b[0m\n\u001b[0;32m    240\u001b[0m                 \u001b[0malert_text\u001b[0m \u001b[1;33m=\u001b[0m \u001b[0mvalue\u001b[0m\u001b[1;33m[\u001b[0m\u001b[1;34m'alert'\u001b[0m\u001b[1;33m]\u001b[0m\u001b[1;33m.\u001b[0m\u001b[0mget\u001b[0m\u001b[1;33m(\u001b[0m\u001b[1;34m'text'\u001b[0m\u001b[1;33m)\u001b[0m\u001b[1;33m\u001b[0m\u001b[1;33m\u001b[0m\u001b[0m\n\u001b[0;32m    241\u001b[0m             \u001b[1;32mraise\u001b[0m \u001b[0mexception_class\u001b[0m\u001b[1;33m(\u001b[0m\u001b[0mmessage\u001b[0m\u001b[1;33m,\u001b[0m \u001b[0mscreen\u001b[0m\u001b[1;33m,\u001b[0m \u001b[0mstacktrace\u001b[0m\u001b[1;33m,\u001b[0m \u001b[0malert_text\u001b[0m\u001b[1;33m)\u001b[0m\u001b[1;33m\u001b[0m\u001b[1;33m\u001b[0m\u001b[0m\n\u001b[1;32m--> 242\u001b[1;33m         \u001b[1;32mraise\u001b[0m \u001b[0mexception_class\u001b[0m\u001b[1;33m(\u001b[0m\u001b[0mmessage\u001b[0m\u001b[1;33m,\u001b[0m \u001b[0mscreen\u001b[0m\u001b[1;33m,\u001b[0m \u001b[0mstacktrace\u001b[0m\u001b[1;33m)\u001b[0m\u001b[1;33m\u001b[0m\u001b[1;33m\u001b[0m\u001b[0m\n\u001b[0m\u001b[0;32m    243\u001b[0m \u001b[1;33m\u001b[0m\u001b[0m\n\u001b[0;32m    244\u001b[0m     \u001b[1;32mdef\u001b[0m \u001b[0m_value_or_default\u001b[0m\u001b[1;33m(\u001b[0m\u001b[0mself\u001b[0m\u001b[1;33m,\u001b[0m \u001b[0mobj\u001b[0m\u001b[1;33m,\u001b[0m \u001b[0mkey\u001b[0m\u001b[1;33m,\u001b[0m \u001b[0mdefault\u001b[0m\u001b[1;33m)\u001b[0m\u001b[1;33m:\u001b[0m\u001b[1;33m\u001b[0m\u001b[1;33m\u001b[0m\u001b[0m\n",
      "\u001b[1;31mWebDriverException\u001b[0m: Message: chrome not reachable\n  (Session info: chrome=102.0.5005.63)\n"
     ]
    }
   ],
   "source": [
    "#driver = webdriver.Chrome(executable_path=r'D:\\temp\\chromedriver.exe')\n",
    "driver = webdriver.Chrome(ChromeDriverManager().install())\n",
    "driver.implicitly_wait(4)\n",
    "\n",
    "for idx,row in data2.iterrows():\n",
    "    try:\n",
    "        #식당 정보 url, 이름, 지역 가져오기\n",
    "        url=row['url']\n",
    "        place_name=row['name']\n",
    "        region=row['region']\n",
    "        print('========================')\n",
    "        print(place_name + '식당')\n",
    "\n",
    "        #url접속\n",
    "        driver.get(url)\n",
    "        driver.implicitly_wait(3)\n",
    "\n",
    "        #더보기 버튼 다 누르기\n",
    "\n",
    "        for i in range(3): #리뷰 100개씩만 가져오기 - 시간관계상\n",
    "            try:\n",
    "                driver.find_element_by_tag_name('body').send_keys(Keys.END) #맨 밑으로 내리기\n",
    "                driver.find_element_by_css_selector('#app-root > div > div > div > div:nth-child(7) > div:nth-child(2) > div.place_section._3fSeV > div._2kAri > a').click()\n",
    "                driver.find_element_by_tag_name('body').send_keys(Keys.END)\n",
    "                time.sleep(1)\n",
    "            except NoSuchElementException:\n",
    "                print(\"-더보기 버튼 모두 클릭 완료-\")\n",
    "                break\n",
    "\n",
    "        #파싱\n",
    "        html = driver.page_source\n",
    "        soup = BeautifulSoup(html, 'lxml')\n",
    "        #print(soup)\n",
    "\n",
    "        #식당 리뷰 개수 출력\n",
    "        reviews = soup.find_all('li', attrs = {'class':'_3l2Wz'}) #-> _3l2Wz 이 부분은 네이버에서 주기적으로 바꿈.\n",
    "        review_num = len(reviews) #특정 식당의 리뷰 총 개수\n",
    "        print('리뷰 총 개수 : ' + str(review_num))\n",
    "\n",
    "        #넘버링\n",
    "        num = []\n",
    "        for i in range(0, review_num):\n",
    "            num.append(i+1)\n",
    "\n",
    "        #크롤링 작업\n",
    "        category = '방문자 리뷰'\n",
    "        for i in range(0, review_num):\n",
    "            # review 내용\n",
    "            try : \n",
    "                review_content = reviews[i].find('span', attrs = {'class':'WoYOw'}).text\n",
    "\n",
    "            except: #리뷰가 없다면\n",
    "                review_content = \"\"\n",
    "\n",
    "            visitor_review_dic = {\n",
    "                'num':num[i],\n",
    "                'name' : place_name,\n",
    "                'blog or review' : category,\n",
    "                'visitor review content' : review_content\n",
    "            }\n",
    "            visitor_review_arr.append(visitor_review_dic)\n",
    "        \n",
    "    except TimeoutException:\n",
    "        print(\"TimeoutException\")\n",
    "        \n",
    "    except NoSuchElementException:\n",
    "        print(\"NoSuchElementException\")"
   ]
  },
  {
   "cell_type": "markdown",
   "id": "b04c6666",
   "metadata": {},
   "source": [
    "## 3-(1) 네이버 플레이스 방문자 리뷰 정보 csv 형태로 저장"
   ]
  },
  {
   "cell_type": "code",
   "execution_count": null,
   "id": "aac3ee37",
   "metadata": {},
   "outputs": [],
   "source": [
    "def place_review_csv():\n",
    "    with open('place_visitor_review.csv','w',encoding='utf-8-sig') as csv_file:\n",
    "        fieldnames = ['num', 'name','blog or review','visitor review content']\n",
    "        writer = csv.DictWriter(csv_file, fieldnames=fieldnames)\n",
    "        writer.writeheader()\n",
    "        for data in visitor_review_arr:\n",
    "            writer.writerow(data)"
   ]
  },
  {
   "cell_type": "markdown",
   "id": "5c1d7ae7",
   "metadata": {},
   "source": [
    "# 3. 블로그 리뷰 정보 추출"
   ]
  }
 ],
 "metadata": {
  "interpreter": {
   "hash": "751d1c02d5c61c6911b2d88961cd03bc6186ca10e5d0da68038447175fca0088"
  },
  "kernelspec": {
   "display_name": "Python 3.7.9 64-bit",
   "language": "python",
   "name": "python3"
  },
  "language_info": {
   "codemirror_mode": {
    "name": "ipython",
    "version": 3
   },
   "file_extension": ".py",
   "mimetype": "text/x-python",
   "name": "python",
   "nbconvert_exporter": "python",
   "pygments_lexer": "ipython3",
   "version": "3.7.9"
  }
 },
 "nbformat": 4,
 "nbformat_minor": 5
}
