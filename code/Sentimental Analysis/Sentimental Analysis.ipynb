{
 "cells": [
  {
   "cell_type": "markdown",
   "metadata": {},
   "source": [
    "# 1. 라이브러리 호출"
   ]
  },
  {
   "cell_type": "code",
   "execution_count": 1,
   "metadata": {
    "scrolled": true
   },
   "outputs": [],
   "source": [
    "import pandas as pd\n",
    "import re\n",
    "import kss\n",
    "from konlpy.tag import Kkma\n",
    "from konlpy.tag import Okt\n",
    "from tqdm import tqdm\n",
    "import time\n",
    "\n",
    "kkma = Kkma()\n",
    "okt = Okt()\n",
    "#spacing = Spacing()"
   ]
  },
  {
   "cell_type": "markdown",
   "metadata": {},
   "source": [
    "# 2. 관련 함수 정의"
   ]
  },
  {
   "cell_type": "markdown",
   "metadata": {},
   "source": [
    "## 2-(1) 형태소 분석"
   ]
  },
  {
   "cell_type": "code",
   "execution_count": 2,
   "metadata": {},
   "outputs": [],
   "source": [
    "#감성분석 전 정제 함수(형태소 분석)\n",
    "def refining(reviews):\n",
    "    result_list = []\n",
    "    for r in reviews:\n",
    "        review = re.sub(' ', 's', r)\n",
    "        review = okt.pos(review, stem=True, norm=True) #형태소 분석\n",
    "        string = ''\n",
    "        for word in review:\n",
    "            string += word[0]\n",
    "        string = re.sub('s', ' ', string)\n",
    "        result_list.append(string)\n",
    "    return result_list"
   ]
  },
  {
   "cell_type": "markdown",
   "metadata": {},
   "source": [
    "## 2-(2) 감성 사전 정의"
   ]
  },
  {
   "cell_type": "code",
   "execution_count": 3,
   "metadata": {},
   "outputs": [],
   "source": [
    "#감성사전\n",
    "service_good_feature = {'서비스':['좋','친절','괜찮','최고','빠르','짱','훌륭','추천','감사','구수','최상','대박',\n",
    "                               '훈훈','특별','개이득','최고','만족','세련','최고','감동'],\n",
    "                        '사장':['친절','스윗','센스'],\n",
    "                        '알바':['친절','스윗','센스'],\n",
    "                        '직원': ['친절','스윗','센스'],\n",
    "                        '다들': ['친절','스윗','센스'],\n",
    "                        '일을':['잘','빠르게'],\n",
    "                        '일도':['잘','빠르게'],\n",
    "                        '서빙':['잘','빠르게']}\n",
    "\n",
    "service_bad_feature = {'서비스': ['아쉽','최악','나쁘','느리','빡치','비추','별로','그냥','낙제','쏘다쏘다','엉망','실망','불친절','문제','컴플레인',\n",
    "                               '거지','그닥','그다지','구려','불편','엉성','헬','개판'],\n",
    "                       '알바':['불친절','똑바로','재수'],\n",
    "                       '사장':['불친절','똑바로','재수'],\n",
    "                       '직원':['불친절','똑바로','재수'],\n",
    "                       '다들': ['불친절','똑바로','재수'],\n",
    "                      '일을':['못','느리게','답답'],\n",
    "                      '일도':['못','느리게', '천천히'],\n",
    "                      '서빙':['못','느리게','천천히','답답']}\n",
    "\n",
    "taste_good_feature = {'간':['맞','적절','딱','환상','담백'],\n",
    "                      '음식':['깔끔'],\n",
    "                      '맛':['있','좋','나다','최고']}\n",
    "\n",
    "taste_bad_feature = {'간':['세','쎄','강하다','별로'],\n",
    "                     '음식':['별로','쏘다쏘다','최악'],\n",
    "                     '맛':['별로','최악']}\n",
    "\n",
    "taste_good_emotion = ['고소','부드럽','신선','촉촉','싱싱','정갈','최고']\n",
    "\n",
    "taste_bad_emotion = ['싱겁','느끼다하다','짜다','느끼다','짜다','딱딱하다','차갑다']\n",
    "\n",
    "cost_good_feature = {'가격': ['괜찮','착하다','저렴','적당','싸다','좋다','합리적','훌륭','최고','만족','마음','든든','알맞다',\n",
    "                            '무난','괜춘','최상','최상','굿','엄지','낮'],\n",
    "                     '가성비':['괜찮','착하다','저렴','적당','싸다','좋다','합리적','훌륭','최고','만족','마음','든든','알맞다',\n",
    "                            '무난','괜춘','최상','최상','굿','엄지'],\n",
    "                     '양':['많','적당','푸짐하고','괜찮다','넉넉','충분','든든']\n",
    "                     }\n",
    "\n",
    "cost_bad_feature ={'가격': ['비싸','있다','나쁘','사악','비효율','높다','부담','아쉽','쏘다쏘다','별로','그닥','그다지','쎄','ㅎㄷㄷ','높','거품'],\n",
    "                   '가성비':['별로'],\n",
    "                   '양':['적다','작다','아쉽','적다','다소','별로'],\n",
    "                   }\n",
    "\n",
    "atmosphere_good_feature = {'분위기': ['좋','괜찮','조용','깔끔','적당','깡패','굉장','아담','완벽','아기자기','고급','최고','세련','만족','아늑','훌륭','예쁘','이쁘','짱',\n",
    "                                   '심쿵','따뜻','깨끗','독특','매력','모던','취향저격','맘','마음','클래식','아름','인상적','귀엽','포근'], \n",
    "                           '인테리어': ['좋','괜찮','조용','깔끔','적당','깡패','굉장','아담','완벽','아기자기','고급','최고','세련','만족','아늑','훌륭','예쁘','이쁘','짱',\n",
    "                                    '심쿵','따뜻','깨끗','독특','매력','모던','취향저격','맘','마음','클래식','아름','인상적','귀엽','포근'],\n",
    "                          '매장': ['좋','괜찮','조용','깔끔','적당','깡패','굉장','아담','완벽','아기자기','고급','최고','세련','만족','아늑','훌륭','예쁘','이쁘','짱',\n",
    "                                   '심쿵','따뜻','깨끗','독특','매력','모던','취향저격','맘','마음','클래식','아름','인상적','귀엽','포근', '넓']}\n",
    "\n",
    "atmosphere_bad_feature = {'분위기': ['나쁘다','바쁘다','어수선하다','이상하다','촌스럽다','별로','부담스럽다','시끄럽','복잡' ],\n",
    "                          '인테리어':[],\n",
    "                         '매장':[]}\n",
    "\n",
    "visit_good_feature = {'의사':['있다','충만','백프로','백프롭','많','만땅','마구','그득','만점','넘침'],\n",
    "                      '다시':['가다','오다','방문','찾다','가보다','한번','갈다','찾아가다','가야지','갈거다','방문하다보고',\n",
    "                            '생각나다','방문한다면','와보고','재방문','접하다','간다면','갈다때가','먹다고프다','방문한다임','오자고','가기로','갈다생각이다','가면'],\n",
    "                      '굳이':[],\n",
    "                      '굳이':[]}\n",
    "\n",
    "visit_bad_feature = {'의사':['글쎄'],\n",
    "                     '굳이':['다시','많이','여기까지','줄서서','찾아','시키다','가다','찾다','여기','기다리다','줄을','사먹'],\n",
    "                     '다시':[],\n",
    "                     '실망':[]}\n",
    "\n",
    "negative_word_emotion = ['안 ','않','못','없','아닌','아니']"
   ]
  },
  {
   "cell_type": "markdown",
   "metadata": {},
   "source": [
    "## 2-(3) 각 특성별(서비스, 맛, 가격, 분위기, 재방문 의사) 키워드 추출"
   ]
  },
  {
   "cell_type": "code",
   "execution_count": 4,
   "metadata": {},
   "outputs": [],
   "source": [
    "#각 특성별 키워드 추출, 문장 속에 다른 단어들과 섞여서 쓰이는 형태를 보고 감성분석을 진행해야 하니까 키워드+주변어절 추출합니다\n",
    "#구 단위분석\n",
    "def get_feature_keywords(feature_keywords, review):\n",
    "    feature_temp = []\n",
    "    for keyword in feature_keywords:\n",
    "        if re.findall(keyword, review): # 리뷰에서 키워드 있는거 다 찾아서\n",
    "            sub_list = ['게','고','음','며','데','만','도','면'] #연결어미\n",
    "            \n",
    "            for sub in sub_list:\n",
    "                if sub+' ' in review: # 연결어미가 띄어쓰기랑 같이 있으면\n",
    "                    review = re.sub(sub+' ', sub+',', review) # 연결어미 + 띄어쓰기를 연결어미 + , 로 대체\n",
    "                    #키워드와 의미 없는 연결어미가 함께 추출되는 일이 없도록(밑에서 어절 단위로 추출함)\n",
    "                \n",
    "            a = re.findall(keyword +'+[ㄱ-ㅎ|ㅏ-ㅣ|가-힣]+\\s+[ㄱ-ㅎ|ㅏ-ㅣ|가-힣]+\\s+[ㄱ-ㅎ|ㅏ-ㅣ|가-힣]+',review) # K한 한 한글\n",
    "            # 키워드+조사 띄어쓰기 어절 2개가 붙어 있는거 다 찾기\n",
    "            b = re.findall(keyword + '+\\s+[ㄱ-ㅎ|ㅏ-ㅣ|가-힣]+\\s+[ㄱ-ㅎ|ㅏ-ㅣ|가-힣]+',review) # K 한 한글 \n",
    "            # 키워드와 띄어쓰기 어절 1개짜리 다 찾기\n",
    "            c = re.findall('[ㄱ-ㅎ|ㅏ-ㅣ|가-힣]+\\s+' + keyword +'[ㄱ-ㅎ|ㅏ-ㅣ|가-힣]+',review) # 한 K한글 예쁜 분위기가\n",
    "            # 어절 + 키워드 + 어절인 부분 다 찾기\n",
    "            \n",
    "            # 추출한 키워드들을 feature_temp에 append\n",
    "            for ngram in a:\n",
    "                t = ()\n",
    "                feature_temp.append(t + (ngram,keyword))\n",
    "            for ngram in b:\n",
    "                t = ()\n",
    "                feature_temp.append(t + (ngram,keyword))\n",
    "            for ngram in c:\n",
    "                t = ()\n",
    "                feature_temp.append(t + (ngram,keyword))\n",
    "                \n",
    "    return feature_temp"
   ]
  },
  {
   "cell_type": "markdown",
   "metadata": {},
   "source": [
    "## 2-(4) 각 특성에 대한 긍정 및 부정 감정 추출"
   ]
  },
  {
   "cell_type": "code",
   "execution_count": 5,
   "metadata": {},
   "outputs": [],
   "source": [
    "#특성별 감성분석 인풋으로 특성별 긍정사전, 부정사전, 추출한 키워드\n",
    "def get_feature_emotions(feature_good_dict,feature_bad_dict, feature_temp):\n",
    "    good_feature_emotion_list = []\n",
    "    bad_feature_emotion_list = []\n",
    "    \n",
    "    for ngrams in feature_temp: # 추출한 키워드(추출 문장, 키워드)에서\n",
    "        keyword = ngrams[1] # 키워드 -> 감성사전에서 특성별 긍부정을 추출할 키워드\n",
    "        ngram = ngrams[0] # 추출 문장 -> 특성별 긍부정 단어가 있는지 확인할 문장\n",
    "        is_bad_feature = None\n",
    "        \n",
    "        good_emotion_list = feature_good_dict[keyword] # 특성별 긍정 감정어 \n",
    "        bad_emotion_list = feature_bad_dict[keyword] # 특성별 부정 감정어\n",
    "        for emotion in good_emotion_list: # 긍정감정어에서\n",
    "            if re.findall(emotion, ngram): # 긍정어와 추출한 문장이 함께 있다면\n",
    "                is_bad_feature = False  # 나쁜 특성은 아니다\n",
    "        for emotion in bad_emotion_list: # 부정감정어에서\n",
    "            if re.findall(emotion, ngram): # 부정어와 추출한 문장이 함께 있다면\n",
    "                is_bad_feature = True    # 이 문장은 부정문이다\n",
    "        for negative in negative_word_emotion: #[안, 않, 못, 없 등]의 부정어에서\n",
    "            if re.findall(negative, ngram): # 부정어와 추출한 문장이 함께 있으면서\n",
    "                if is_bad_feature == True: # 이 문장이 부정문이면\n",
    "                    is_bad_feature = False # 이 문장은 사실 부정한 문장이 아니다\n",
    "                    break\n",
    "                elif is_bad_feature == False: # 이 문장이 부정한 문장이 아니면\n",
    "                    is_bad_feature = True # 이 문장은 사실 부정한 문장이다\n",
    "                    break\n",
    "                else:\n",
    "                    is_bad_feature = True # 그냥 아무 감정 없는 평범한 문장이라면 부정한 문장이다\n",
    "                    break   \n",
    "        if is_bad_feature:\n",
    "            bad_feature_emotion_list.append(ngram) # 부정 문장에 추가\n",
    "        elif is_bad_feature == False:\n",
    "            good_feature_emotion_list.append(ngram) # 긍정 문장에 추가\n",
    "        else:\n",
    "            pass # 아무것도 아니면 패스\n",
    "    return good_feature_emotion_list, bad_feature_emotion_list"
   ]
  },
  {
   "cell_type": "markdown",
   "metadata": {},
   "source": [
    "## 2-(5) 맛 특성에 대한 긍정 및 부정 감정 추출"
   ]
  },
  {
   "cell_type": "code",
   "execution_count": 6,
   "metadata": {},
   "outputs": [],
   "source": [
    "#맛 긍부정 분석 맛사전의 경우 feature 사전과 emotions 사전이 나눠져 있어서 두번 진행\n",
    "#맛 emotions 사전에 대한 처리\n",
    "def get_taste_emotion(taste_good_emotions, taste_bad_emotions):\n",
    "    bad_taste_emotion_list = []\n",
    "    good_taste_emotion_list = []\n",
    "    for ngrams in taste_good_emotions:\n",
    "        ngram = ngrams[0]\n",
    "        is_bad_taste = False\n",
    "        for negative in negative_word_emotion:\n",
    "            if re.findall(negative,ngram):\n",
    "                is_bad_taste = True\n",
    "        if is_bad_taste:\n",
    "            bad_taste_emotion_list.append(ngram)\n",
    "        else:\n",
    "            good_taste_emotion_list.append(ngram)\n",
    "    \n",
    "    for ngrams in taste_bad_emotions:\n",
    "        ngram = ngrams[0]\n",
    "        is_bad_taste = True\n",
    "        for negative in negative_word_emotion:\n",
    "            if re.findall(negative,ngram):\n",
    "                is_bad_taste = False\n",
    "        if is_bad_taste:\n",
    "            bad_taste_emotion_list.append(ngram)\n",
    "        else:\n",
    "            good_taste_emotion_list.append(ngram)\n",
    "            \n",
    "    return good_taste_emotion_list, bad_taste_emotion_list"
   ]
  },
  {
   "cell_type": "markdown",
   "metadata": {},
   "source": [
    "# 3. 블로그 리뷰 감성 분석"
   ]
  },
  {
   "cell_type": "markdown",
   "metadata": {},
   "source": [
    "## 3-(1) 블로그 리뷰 불러오기"
   ]
  },
  {
   "cell_type": "code",
   "execution_count": 7,
   "metadata": {},
   "outputs": [],
   "source": [
    "df1 = pd.read_csv('processed_place_blog_review3.csv', encoding='utf-8-sig')"
   ]
  },
  {
   "cell_type": "code",
   "execution_count": 8,
   "metadata": {},
   "outputs": [
    {
     "name": "stderr",
     "output_type": "stream",
     "text": [
      "c:\\Users\\jhu56\\AppData\\Local\\Programs\\Python\\Python37\\lib\\site-packages\\ipykernel_launcher.py:2: SettingWithCopyWarning: \n",
      "A value is trying to be set on a copy of a slice from a DataFrame\n",
      "\n",
      "See the caveats in the documentation: https://pandas.pydata.org/pandas-docs/stable/user_guide/indexing.html#returning-a-view-versus-a-copy\n",
      "  \n"
     ]
    }
   ],
   "source": [
    "for i in range(len(df1['blog review'])):\n",
    "            df1['blog review'][i] = str(df1['blog review'][i])"
   ]
  },
  {
   "cell_type": "markdown",
   "metadata": {},
   "source": [
    "## 3-(2) 식당별로 리뷰 모으기"
   ]
  },
  {
   "cell_type": "code",
   "execution_count": 9,
   "metadata": {
    "scrolled": true
   },
   "outputs": [],
   "source": [
    "df2 = df1.groupby('name', sort=False).agg({'blog review': ','.join}).reset_index()"
   ]
  },
  {
   "cell_type": "code",
   "execution_count": 10,
   "metadata": {},
   "outputs": [],
   "source": [
    "review = df2['blog review']\n",
    "name = df2['name']"
   ]
  },
  {
   "cell_type": "code",
   "execution_count": 11,
   "metadata": {},
   "outputs": [],
   "source": [
    "#식당 별로로 리뷰 모으기\n",
    "restaurant_review = []\n",
    "for i in review:\n",
    "    restaurant_review.append(i.split(','))"
   ]
  },
  {
   "cell_type": "markdown",
   "metadata": {},
   "source": [
    "## 3-(3) 블로그 리뷰 감성 분석 결과 "
   ]
  },
  {
   "cell_type": "code",
   "execution_count": 12,
   "metadata": {},
   "outputs": [
    {
     "name": "stdout",
     "output_type": "stream",
     "text": [
      "배곧 또잇카페 배곧점\n",
      "Total review count: 44\n",
      "Good service: 3/4 = 75.0\n",
      "Good atmosphere: 23/23 = 100.0\n",
      "Good cost: 1/1 = 100.0\n",
      "Good taste: 31/34 = 91.0\n",
      "Good revisit: 1/2 = 50.0\n",
      "\n",
      "배곧 카츠오모이\n",
      "Total review count: 84\n",
      "Good service: 8/9 = 89.0\n",
      "Good atmosphere: 1/1 = 100.0\n",
      "Good cost: 2/3 = 67.0\n",
      "Good taste: 62/69 = 90.0\n",
      "Good revisit: 1/2 = 50.0\n",
      "\n",
      "배곧 양푼애등갈비\n",
      "Total review count: 9\n",
      "Good service: 0/0 = 0\n",
      "Good atmosphere: 0/0 = 0\n",
      "Good cost: 0/1 = 0.0\n",
      "Good taste: 7/7 = 100.0\n",
      "Good revisit: 0/0 = 0\n",
      "\n"
     ]
    }
   ],
   "source": [
    "#식당별 감성분석 결과 카운팅 및 스코어\n",
    "#check_division은 restaurant_good_service_count, restaurant_good_service_count + restaurant_bad_service_count 파라미터로 받고, *100 함 -> 점수가 나옴\n",
    "check_division = lambda x, y: y if y ==0 else round((x / float(y)),2) # x,y 파라미터를 받아서 y가 0이면 0, 아니면 x/y의 소수점 밑 두자리 수까지 반올림\n",
    "\n",
    "for i in range(len(name)):\n",
    "    restaurant_good_service_count = 0\n",
    "    restaurant_bad_service_count = 0\n",
    "    restaurant_good_atmosphere_count =0\n",
    "    restaurant_bad_atmosphere_count =0\n",
    "    restaurant_good_cost_count =0\n",
    "    restaurant_bad_cost_count =0\n",
    "    restaurant_good_visit_count = 0\n",
    "    restaurant_bad_visit_count = 0\n",
    "    restaurant_good_taste_count = 0\n",
    "    restaurant_bad_taste_count = 0\n",
    "    print(name[i]) # 식당 이름부터 출력\n",
    "    reviews_list = refining(restaurant_review[i]) #식당에 대한 리뷰 전체 형태소 분석\n",
    "    for review in reviews_list: #한번 돌 때마다 한 식당의 전체 리뷰에 대한 감성분석 진행\n",
    "        service_temp = get_feature_keywords(service_good_feature.keys(), review)\n",
    "        good_service,bad_service = get_feature_emotions(service_good_feature, service_bad_feature, service_temp)\n",
    "\n",
    "        atmosphere_temp = get_feature_keywords(atmosphere_good_feature.keys(), review)\n",
    "        good_atmosphere,bad_atmosphere = get_feature_emotions(atmosphere_good_feature, atmosphere_bad_feature, atmosphere_temp)\n",
    "\n",
    "        cost_temp = get_feature_keywords(cost_good_feature.keys(), review)\n",
    "        good_cost,bad_cost = get_feature_emotions(cost_good_feature, cost_bad_feature, cost_temp)\n",
    "\n",
    "        visit_temp = get_feature_keywords(visit_good_feature.keys(), review)\n",
    "        good_visit,bad_visit = get_feature_emotions(visit_good_feature, visit_bad_feature, visit_temp)\n",
    "\n",
    "        taste_temp = get_feature_keywords(taste_good_feature.keys(), review)\n",
    "        good_taste,bad_taste = get_feature_emotions(taste_good_feature, taste_bad_feature, taste_temp) # 맛 특성 긍부정 분석\n",
    "        taste_good_emotion_temp = get_feature_keywords(taste_good_emotion, review) # 맛에 대한 긍정 감정 키워드 추출\n",
    "        taste_bad_emotion_temp = get_feature_keywords(taste_bad_emotion, review) # 맛에 대한 부정 감정 키워드 추출\n",
    "        good_taste2, bad_taste2 = get_taste_emotion(taste_good_emotion_temp,taste_bad_emotion_temp)\n",
    "        good_taste.extend(good_taste2) # 긍정 맛 문장에 추가\n",
    "        bad_taste.extend(bad_taste2) # 부정 맛 문장에 추가\n",
    "        \n",
    "        # 각 특성 긍부정 리스트의 크기에 따라 점수 카운트(부정은 출력 안하긴함)\n",
    "        if len(good_service) > len(bad_service):\n",
    "            restaurant_good_service_count += 1\n",
    "        elif len(good_service) < len(bad_service):\n",
    "            restaurant_bad_service_count += 1\n",
    "        else:\n",
    "            pass\n",
    "        \n",
    "        if len(good_atmosphere) > len(bad_atmosphere):\n",
    "            restaurant_good_atmosphere_count += 1\n",
    "        elif len(good_atmosphere) < len(bad_atmosphere):\n",
    "            restaurant_bad_atmosphere_count += 1\n",
    "        else:\n",
    "            pass\n",
    "        \n",
    "        if len(good_cost) > len(bad_cost):\n",
    "            restaurant_good_cost_count += 1\n",
    "        elif len(good_cost) < len(bad_cost):\n",
    "            restaurant_bad_cost_count += 1\n",
    "        else:\n",
    "            pass\n",
    "            \n",
    "        if len(good_visit) > len(bad_visit):\n",
    "            restaurant_good_visit_count += 1\n",
    "        elif len(good_visit) < len(bad_visit):\n",
    "            restaurant_bad_visit_count += 1\n",
    "        else:\n",
    "            pass\n",
    "        \n",
    "        if len(good_taste) > len(bad_taste):\n",
    "            restaurant_good_taste_count += 1\n",
    "        elif len(good_taste) < len(bad_taste):\n",
    "            restaurant_bad_taste_count += 1\n",
    "        else:\n",
    "            pass\n",
    "        \n",
    "    TT = restaurant_good_service_count + restaurant_bad_service_count + restaurant_good_taste_count + restaurant_bad_taste_count + restaurant_good_atmosphere_count + restaurant_bad_atmosphere_count + restaurant_good_cost_count + restaurant_bad_cost_count\n",
    "    \n",
    "    #if TT > 5: # 총 감성 카운트가 5 이상만 출력하는건데 일단 주석 처리 해 놓고 전체 출력\n",
    "    print('Total review count: {}'.format(len(restaurant_review[i])))\n",
    "    print('Good service: {}/{} = {}'.format(restaurant_good_service_count,restaurant_good_service_count + restaurant_bad_service_count,100*check_division(restaurant_good_service_count, restaurant_good_service_count + restaurant_bad_service_count)))\n",
    "    print('Good atmosphere: {}/{} = {}'.format(restaurant_good_atmosphere_count,restaurant_good_atmosphere_count + restaurant_bad_atmosphere_count,100*check_division(restaurant_good_atmosphere_count,restaurant_good_atmosphere_count + restaurant_bad_atmosphere_count))) \n",
    "    print('Good cost: {}/{} = {}'.format(restaurant_good_cost_count,restaurant_good_cost_count + restaurant_bad_cost_count, 100*check_division(restaurant_good_cost_count,restaurant_good_cost_count + restaurant_bad_cost_count)))\n",
    "    print('Good taste: {}/{} = {}'.format(restaurant_good_taste_count,restaurant_good_taste_count + restaurant_bad_taste_count,100*check_division(restaurant_good_taste_count,restaurant_good_taste_count + restaurant_bad_taste_count)))\n",
    "    print('Good revisit: {}/{} = {}'.format(restaurant_good_visit_count,restaurant_good_visit_count+restaurant_bad_visit_count,100*check_division(restaurant_good_visit_count,restaurant_good_visit_count+restaurant_bad_visit_count)))\n",
    "    print('')"
   ]
  },
  {
   "cell_type": "markdown",
   "metadata": {},
   "source": [
    "# 4. 방문자 리뷰 감성 분석"
   ]
  },
  {
   "cell_type": "markdown",
   "metadata": {},
   "source": [
    "## 4-(1) 방문자 리뷰 불러오기"
   ]
  },
  {
   "cell_type": "code",
   "execution_count": 13,
   "metadata": {},
   "outputs": [],
   "source": [
    "df3 = pd.read_csv('processed_place_visitor_review4.csv', encoding='utf-8-sig')"
   ]
  },
  {
   "cell_type": "markdown",
   "metadata": {},
   "source": [
    "## 4-(2) 식당 별로 리뷰 모으기"
   ]
  },
  {
   "cell_type": "code",
   "execution_count": 14,
   "metadata": {},
   "outputs": [],
   "source": [
    "df4 = df3.groupby('name', sort=False).agg({'visitor review': ','.join}).reset_index()"
   ]
  },
  {
   "cell_type": "code",
   "execution_count": 15,
   "metadata": {},
   "outputs": [],
   "source": [
    "review = df4['visitor review']\n",
    "name = df4['name']"
   ]
  },
  {
   "cell_type": "code",
   "execution_count": 16,
   "metadata": {},
   "outputs": [],
   "source": [
    "restaurant_review = []\n",
    "for i in review:\n",
    "    restaurant_review.append(i.split(','))"
   ]
  },
  {
   "cell_type": "markdown",
   "metadata": {},
   "source": [
    "## 4-(3) 네이버 플레이스 방문자 리뷰 감성 분석 결과"
   ]
  },
  {
   "cell_type": "code",
   "execution_count": 17,
   "metadata": {},
   "outputs": [
    {
     "name": "stdout",
     "output_type": "stream",
     "text": [
      "배곧 또잇카페 배곧점\n",
      "Total review count: 81\n",
      "Good service: 1/2 = 50.0\n",
      "Good atmosphere: 12/12 = 100.0\n",
      "Good cost: 0/0 = 0\n",
      "Good taste: 31/31 = 100.0\n",
      "Good revisit: 0/0 = 0\n",
      "\n",
      "배곧 카츠오모이\n",
      "Total review count: 19\n",
      "Good service: 0/0 = 0\n",
      "Good atmosphere: 0/0 = 0\n",
      "Good cost: 0/0 = 0\n",
      "Good taste: 8/8 = 100.0\n",
      "Good revisit: 0/0 = 0\n",
      "\n"
     ]
    }
   ],
   "source": [
    "#식당별 감성분석 결과 카운팅 및 스코어\n",
    "#check_division은 restaurant_good_service_count, restaurant_good_service_count + restaurant_bad_service_count 파라미터로 받고, *100 함 -> 점수가 나옴\n",
    "check_division = lambda x, y: y if y ==0 else round((x / float(y)),2) # x,y 파라미터를 받아서 y가 0이면 0, 아니면 x/y의 소수점 밑 두자리 수까지 반올림\n",
    "\n",
    "for i in range(len(name)):\n",
    "    restaurant_good_service_count = 0\n",
    "    restaurant_bad_service_count = 0\n",
    "    restaurant_good_atmosphere_count =0\n",
    "    restaurant_bad_atmosphere_count =0\n",
    "    restaurant_good_cost_count =0\n",
    "    restaurant_bad_cost_count =0\n",
    "    restaurant_good_visit_count = 0\n",
    "    restaurant_bad_visit_count = 0\n",
    "    restaurant_good_taste_count = 0\n",
    "    restaurant_bad_taste_count = 0\n",
    "    print(name[i]) #식당 이름부터 출력\n",
    "    reviews_list = refining(restaurant_review[i]) #식당에 대한 리뷰 전체 형태소 분석\n",
    "    for review in reviews_list: #한번 돌 때마다 한 식당의 전체 리뷰에 대한 감성분석 진행\n",
    "        service_temp = get_feature_keywords(service_good_feature.keys(), review)\n",
    "        good_service,bad_service = get_feature_emotions(service_good_feature, service_bad_feature, service_temp)\n",
    "\n",
    "        atmosphere_temp = get_feature_keywords(atmosphere_good_feature.keys(), review)\n",
    "        good_atmosphere,bad_atmosphere = get_feature_emotions(atmosphere_good_feature, atmosphere_bad_feature, atmosphere_temp)\n",
    "\n",
    "        cost_temp = get_feature_keywords(cost_good_feature.keys(), review)\n",
    "        good_cost,bad_cost = get_feature_emotions(cost_good_feature, cost_bad_feature, cost_temp)\n",
    "\n",
    "        visit_temp = get_feature_keywords(visit_good_feature.keys(), review)\n",
    "        good_visit,bad_visit = get_feature_emotions(visit_good_feature, visit_bad_feature, visit_temp)\n",
    "\n",
    "        taste_temp = get_feature_keywords(taste_good_feature.keys(), review)\n",
    "        good_taste,bad_taste = get_feature_emotions(taste_good_feature, taste_bad_feature, taste_temp) # 맛 특성 긍부정 분석\n",
    "        taste_good_emotion_temp = get_feature_keywords(taste_good_emotion, review) # 맛에 대한 긍정 감정 키워드 추출\n",
    "        taste_bad_emotion_temp = get_feature_keywords(taste_bad_emotion, review) # 맛에 대한 부정 감정 키워드 추출\n",
    "        good_taste2, bad_taste2 = get_taste_emotion(taste_good_emotion_temp,taste_bad_emotion_temp)\n",
    "        good_taste.extend(good_taste2) # 긍정 맛 문장에 추가\n",
    "        bad_taste.extend(bad_taste2) # 부정 맛 문장에 추가\n",
    "        \n",
    "        # 각 특성 긍부정 리스트의 크기에 따라 점수 카운트(부정은 출력 안하긴함)\n",
    "        if len(good_service) > len(bad_service):\n",
    "            restaurant_good_service_count += 1\n",
    "        elif len(good_service) < len(bad_service):\n",
    "            restaurant_bad_service_count += 1\n",
    "        else:\n",
    "            pass\n",
    "        \n",
    "        if len(good_atmosphere) > len(bad_atmosphere):\n",
    "            restaurant_good_atmosphere_count += 1\n",
    "        elif len(good_atmosphere) < len(bad_atmosphere):\n",
    "            restaurant_bad_atmosphere_count += 1\n",
    "        else:\n",
    "            pass\n",
    "        \n",
    "        if len(good_cost) > len(bad_cost):\n",
    "            restaurant_good_cost_count += 1\n",
    "        elif len(good_cost) < len(bad_cost):\n",
    "            restaurant_bad_cost_count += 1\n",
    "        else:\n",
    "            pass\n",
    "            \n",
    "        if len(good_visit) > len(bad_visit):\n",
    "            restaurant_good_visit_count += 1\n",
    "        elif len(good_visit) < len(bad_visit):\n",
    "            restaurant_bad_visit_count += 1\n",
    "        else:\n",
    "            pass\n",
    "        \n",
    "        if len(good_taste) > len(bad_taste):\n",
    "            restaurant_good_taste_count += 1\n",
    "        elif len(good_taste) < len(bad_taste):\n",
    "            restaurant_bad_taste_count += 1\n",
    "        else:\n",
    "            pass\n",
    "        \n",
    "    TT = restaurant_good_service_count + restaurant_bad_service_count + restaurant_good_taste_count + restaurant_bad_taste_count + restaurant_good_atmosphere_count + restaurant_bad_atmosphere_count + restaurant_good_cost_count + restaurant_bad_cost_count\n",
    "    \n",
    "    #if TT > 5: # 총 감성 카운트가 5 이상만 출력하는건데 일단 주석 처리 해 놓고 전체 출력\n",
    "    print('Total review count: {}'.format(len(restaurant_review[i])))\n",
    "    print('Good service: {}/{} = {}'.format(restaurant_good_service_count,restaurant_good_service_count + restaurant_bad_service_count,100*check_division(restaurant_good_service_count, restaurant_good_service_count + restaurant_bad_service_count)))\n",
    "    print('Good atmosphere: {}/{} = {}'.format(restaurant_good_atmosphere_count,restaurant_good_atmosphere_count + restaurant_bad_atmosphere_count,100*check_division(restaurant_good_atmosphere_count,restaurant_good_atmosphere_count + restaurant_bad_atmosphere_count))) \n",
    "    print('Good cost: {}/{} = {}'.format(restaurant_good_cost_count,restaurant_good_cost_count + restaurant_bad_cost_count, 100*check_division(restaurant_good_cost_count,restaurant_good_cost_count + restaurant_bad_cost_count)))\n",
    "    print('Good taste: {}/{} = {}'.format(restaurant_good_taste_count,restaurant_good_taste_count + restaurant_bad_taste_count,100*check_division(restaurant_good_taste_count,restaurant_good_taste_count + restaurant_bad_taste_count)))\n",
    "    print('Good revisit: {}/{} = {}'.format(restaurant_good_visit_count,restaurant_good_visit_count+restaurant_bad_visit_count,100*check_division(restaurant_good_visit_count,restaurant_good_visit_count+restaurant_bad_visit_count)))\n",
    "    print('')"
   ]
  }
 ],
 "metadata": {
  "interpreter": {
   "hash": "751d1c02d5c61c6911b2d88961cd03bc6186ca10e5d0da68038447175fca0088"
  },
  "kernelspec": {
   "display_name": "Python 3.7.9 64-bit",
   "language": "python",
   "name": "python3"
  },
  "language_info": {
   "codemirror_mode": {
    "name": "ipython",
    "version": 3
   },
   "file_extension": ".py",
   "mimetype": "text/x-python",
   "name": "python",
   "nbconvert_exporter": "python",
   "pygments_lexer": "ipython3",
   "version": "3.7.9"
  }
 },
 "nbformat": 4,
 "nbformat_minor": 4
}
