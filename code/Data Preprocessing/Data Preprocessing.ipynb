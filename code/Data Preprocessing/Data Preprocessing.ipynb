{
 "cells": [
  {
   "cell_type": "markdown",
   "id": "08a59f43",
   "metadata": {},
   "source": [
    "# 1. 라이브러리 불러오기"
   ]
  },
  {
   "cell_type": "code",
   "execution_count": 35,
   "id": "d487a097",
   "metadata": {},
   "outputs": [],
   "source": [
    "import requests\n",
    "import pandas as pd\n",
    "from selenium import webdriver\n",
    "from selenium.webdriver.common.keys import Keys\n",
    "from selenium.common.exceptions import NoSuchElementException\n",
    "from selenium.common.exceptions import TimeoutException\n",
    "import time\n",
    "import re\n",
    "import csv \n",
    "import glob\n",
    "import numpy as np\n",
    "import os\n",
    "import matplotlib.pyplot as plt\n",
    "import matplotlib as mpl\n",
    "import matplotlib.font_manager as fm\n",
    "import seaborn as sns\n",
    "\n",
    "from bs4 import BeautifulSoup\n",
    "from tqdm import tqdm"
   ]
  },
  {
   "cell_type": "markdown",
   "id": "7ea4c4ec",
   "metadata": {},
   "source": [
    "# 2. 수집한 리뷰들 불러오기"
   ]
  },
  {
   "cell_type": "markdown",
   "id": "d727781e",
   "metadata": {},
   "source": [
    "## 2-(1) 방문자 리뷰 불러오기"
   ]
  },
  {
   "cell_type": "code",
   "execution_count": 36,
   "id": "c8f7b999",
   "metadata": {},
   "outputs": [],
   "source": [
    "#추출한 방문자리뷰 csv파일 불러오기\n",
    "visitor_review_list=pd.read_csv('place_visitor_review.csv',encoding='utf-8')\n",
    "visitor_review=visitor_review_list[['num','name','blog or review','visitor review content']]"
   ]
  },
  {
   "cell_type": "code",
   "execution_count": 37,
   "id": "31a175cd",
   "metadata": {},
   "outputs": [
    {
     "data": {
      "text/plain": [
       "num                       False\n",
       "name                      False\n",
       "blog or review            False\n",
       "visitor review content    False\n",
       "dtype: bool"
      ]
     },
     "execution_count": 37,
     "metadata": {},
     "output_type": "execute_result"
    }
   ],
   "source": [
    "#불러온 방문자 리뷰 중 결측값 확인\n",
    "visitor_review.isnull().any()"
   ]
  },
  {
   "cell_type": "code",
   "execution_count": 38,
   "id": "8582e6c3",
   "metadata": {},
   "outputs": [],
   "source": [
    "#불러온 방문자 리뷰 중 결측값이 있는 행 제거\n",
    "visitor_review=visitor_review.dropna(axis=0)"
   ]
  },
  {
   "cell_type": "code",
   "execution_count": 39,
   "id": "d8c3cae1",
   "metadata": {},
   "outputs": [
    {
     "data": {
      "text/plain": [
       "num                       False\n",
       "name                      False\n",
       "blog or review            False\n",
       "visitor review content    False\n",
       "dtype: bool"
      ]
     },
     "execution_count": 39,
     "metadata": {},
     "output_type": "execute_result"
    }
   ],
   "source": [
    "#방문자 리뷰 결측값 제거 완료\n",
    "visitor_review.isnull().any()"
   ]
  },
  {
   "cell_type": "code",
   "execution_count": 40,
   "id": "c1b5e7ad",
   "metadata": {},
   "outputs": [
    {
     "data": {
      "text/html": [
       "<div>\n",
       "<style scoped>\n",
       "    .dataframe tbody tr th:only-of-type {\n",
       "        vertical-align: middle;\n",
       "    }\n",
       "\n",
       "    .dataframe tbody tr th {\n",
       "        vertical-align: top;\n",
       "    }\n",
       "\n",
       "    .dataframe thead th {\n",
       "        text-align: right;\n",
       "    }\n",
       "</style>\n",
       "<table border=\"1\" class=\"dataframe\">\n",
       "  <thead>\n",
       "    <tr style=\"text-align: right;\">\n",
       "      <th></th>\n",
       "      <th>num</th>\n",
       "      <th>name</th>\n",
       "      <th>blog or review</th>\n",
       "      <th>visitor review content</th>\n",
       "    </tr>\n",
       "  </thead>\n",
       "  <tbody>\n",
       "    <tr>\n",
       "      <th>0</th>\n",
       "      <td>1</td>\n",
       "      <td>배곧 우정횟집</td>\n",
       "      <td>방문자 리뷰</td>\n",
       "      <td>가족 모임으로 다녀왔습니다. 좋은 리뷰 평가가 많아서 일단 믿고 왔는데, 부부 사장...</td>\n",
       "    </tr>\n",
       "    <tr>\n",
       "      <th>1</th>\n",
       "      <td>2</td>\n",
       "      <td>배곧 우정횟집</td>\n",
       "      <td>방문자 리뷰</td>\n",
       "      <td>주말에 어디갈까 하다가 티맵에 오이도맛집 치니 똭! 하고 우정회집이 나오더라구요. ...</td>\n",
       "    </tr>\n",
       "    <tr>\n",
       "      <th>2</th>\n",
       "      <td>3</td>\n",
       "      <td>배곧 우정횟집</td>\n",
       "      <td>방문자 리뷰</td>\n",
       "      <td>결혼기념일 남편이랑 다녀왔습니다.\\r\\n5월 제철 - 도다리 회. 밑반찬에 시키다시...</td>\n",
       "    </tr>\n",
       "    <tr>\n",
       "      <th>3</th>\n",
       "      <td>4</td>\n",
       "      <td>배곧 우정횟집</td>\n",
       "      <td>방문자 리뷰</td>\n",
       "      <td>거래처 사장님 추천으로 왔다가 완전 맛있게 잘 먹었어요. 음식 진짜 깔끔하고 맛있어...</td>\n",
       "    </tr>\n",
       "    <tr>\n",
       "      <th>4</th>\n",
       "      <td>5</td>\n",
       "      <td>배곧 우정횟집</td>\n",
       "      <td>방문자 리뷰</td>\n",
       "      <td>오이도에서 제일 멋진 횟집입니다.\\r\\n맛있어요.</td>\n",
       "    </tr>\n",
       "    <tr>\n",
       "      <th>...</th>\n",
       "      <td>...</td>\n",
       "      <td>...</td>\n",
       "      <td>...</td>\n",
       "      <td>...</td>\n",
       "    </tr>\n",
       "    <tr>\n",
       "      <th>3226</th>\n",
       "      <td>6</td>\n",
       "      <td>배곧 그레몽디저트샵</td>\n",
       "      <td>방문자 리뷰</td>\n",
       "      <td>출산한 아내가 가장 먹고싶다고 말한 그레몽 에그타르트!!  맛이 정말 예술입니다 ㅎ...</td>\n",
       "    </tr>\n",
       "    <tr>\n",
       "      <th>3227</th>\n",
       "      <td>7</td>\n",
       "      <td>배곧 그레몽디저트샵</td>\n",
       "      <td>방문자 리뷰</td>\n",
       "      <td>진짜 거짓말 안하고 동네에 친구들 놀러오면 꼭 데려가는 곳입니다 왜냐구요? 실패가 ...</td>\n",
       "    </tr>\n",
       "    <tr>\n",
       "      <th>3228</th>\n",
       "      <td>8</td>\n",
       "      <td>배곧 그레몽디저트샵</td>\n",
       "      <td>방문자 리뷰</td>\n",
       "      <td>인스타 갬성 카페예요~디저트가 너무 맛있고 인테리어를 엄청 신경쓰신게 보였어요🌸🌸\\...</td>\n",
       "    </tr>\n",
       "    <tr>\n",
       "      <th>3229</th>\n",
       "      <td>9</td>\n",
       "      <td>배곧 그레몽디저트샵</td>\n",
       "      <td>방문자 리뷰</td>\n",
       "      <td>빵 디저트 엄청 좋아해서 배곧 안 가본곳이 없어요!요기 휘낭시에 겉은 진짜 바삭하고...</td>\n",
       "    </tr>\n",
       "    <tr>\n",
       "      <th>3230</th>\n",
       "      <td>10</td>\n",
       "      <td>배곧 그레몽디저트샵</td>\n",
       "      <td>방문자 리뷰</td>\n",
       "      <td>이런곳 너무 좋아합니다 ㅎㅎ 디저트도 맛있네요!\\r\\n오자마자 바로 저장!</td>\n",
       "    </tr>\n",
       "  </tbody>\n",
       "</table>\n",
       "<p>3231 rows × 4 columns</p>\n",
       "</div>"
      ],
      "text/plain": [
       "      num        name blog or review  \\\n",
       "0       1     배곧 우정횟집         방문자 리뷰   \n",
       "1       2     배곧 우정횟집         방문자 리뷰   \n",
       "2       3     배곧 우정횟집         방문자 리뷰   \n",
       "3       4     배곧 우정횟집         방문자 리뷰   \n",
       "4       5     배곧 우정횟집         방문자 리뷰   \n",
       "...   ...         ...            ...   \n",
       "3226    6  배곧 그레몽디저트샵         방문자 리뷰   \n",
       "3227    7  배곧 그레몽디저트샵         방문자 리뷰   \n",
       "3228    8  배곧 그레몽디저트샵         방문자 리뷰   \n",
       "3229    9  배곧 그레몽디저트샵         방문자 리뷰   \n",
       "3230   10  배곧 그레몽디저트샵         방문자 리뷰   \n",
       "\n",
       "                                 visitor review content  \n",
       "0     가족 모임으로 다녀왔습니다. 좋은 리뷰 평가가 많아서 일단 믿고 왔는데, 부부 사장...  \n",
       "1     주말에 어디갈까 하다가 티맵에 오이도맛집 치니 똭! 하고 우정회집이 나오더라구요. ...  \n",
       "2     결혼기념일 남편이랑 다녀왔습니다.\\r\\n5월 제철 - 도다리 회. 밑반찬에 시키다시...  \n",
       "3     거래처 사장님 추천으로 왔다가 완전 맛있게 잘 먹었어요. 음식 진짜 깔끔하고 맛있어...  \n",
       "4                           오이도에서 제일 멋진 횟집입니다.\\r\\n맛있어요.  \n",
       "...                                                 ...  \n",
       "3226  출산한 아내가 가장 먹고싶다고 말한 그레몽 에그타르트!!  맛이 정말 예술입니다 ㅎ...  \n",
       "3227  진짜 거짓말 안하고 동네에 친구들 놀러오면 꼭 데려가는 곳입니다 왜냐구요? 실패가 ...  \n",
       "3228  인스타 갬성 카페예요~디저트가 너무 맛있고 인테리어를 엄청 신경쓰신게 보였어요🌸🌸\\...  \n",
       "3229  빵 디저트 엄청 좋아해서 배곧 안 가본곳이 없어요!요기 휘낭시에 겉은 진짜 바삭하고...  \n",
       "3230          이런곳 너무 좋아합니다 ㅎㅎ 디저트도 맛있네요!\\r\\n오자마자 바로 저장!  \n",
       "\n",
       "[3231 rows x 4 columns]"
      ]
     },
     "execution_count": 40,
     "metadata": {},
     "output_type": "execute_result"
    }
   ],
   "source": [
    "visitor_review"
   ]
  },
  {
   "cell_type": "markdown",
   "id": "0058e176",
   "metadata": {},
   "source": [
    "# 3. 전처리(특수문자, 띄어쓰기, 불용어 제거 등)"
   ]
  },
  {
   "cell_type": "markdown",
   "id": "2e64fb31",
   "metadata": {},
   "source": [
    "## 3-(1) 전처리 라이브러리 호출"
   ]
  },
  {
   "cell_type": "code",
   "execution_count": 41,
   "id": "39ccf88c",
   "metadata": {},
   "outputs": [],
   "source": [
    "#전처리를 하기위해 필요한 라이브러리 호출\n",
    "import os\n",
    "import sys\n",
    "import konlpy\n",
    "import kss\n",
    "from pykospacing import Spacing\n",
    "from tqdm import tqdm\n",
    "import time\n",
    "import pandas as pd\n",
    "import re\n",
    "\n",
    "spacing = Spacing()"
   ]
  },
  {
   "cell_type": "markdown",
   "id": "2e90fa7c",
   "metadata": {},
   "source": [
    "## 3-(2) 기본 전처리"
   ]
  },
  {
   "cell_type": "code",
   "execution_count": 42,
   "id": "d5e84959",
   "metadata": {},
   "outputs": [],
   "source": [
    "corpus = []\n",
    "append = corpus.append\n",
    "\n",
    "def normalization(cr_review):\n",
    "    for i in tqdm(range(0, len(cr_review)), desc='전처리 진행율'):\n",
    "        review = re.sub('\\n','', str(cr_review[i]))\n",
    "        # 기본 전처리\n",
    "        review = re.sub('\\u200b','',review) # 폭 없는 공백 제거\n",
    "        review = re.sub('\\xa0','',review) # Latin1 (ISO 8859-1)비 공백 공간 제거\n",
    "        review = re.sub(r'[@%\\\\*=()/~#&\\+á?\\xc3\\xa1\\-\\|\\.\\;\\!\\-\\,\\_\\~\\$\\'\\\"\\:]', '',review) # 여러 기호 제거\n",
    "        review = re.sub(r'[^가-힣-\\s0-9]', '', review) # 한글과 숫자만 살리고 제거\n",
    "        review = re.sub(r'\\s+', ' ', review) # 다중 공백 제거\n",
    "        review = re.sub(r'^\\s+', '', review) # 시작 공백 제거\n",
    "        # 표현 및 문법 전처리\n",
    "        review = re.sub('라구요|라구여|라구용|라고염|라고여|라고용', '라고요', review)\n",
    "        review = re.sub('어용|어염|어여', '어요', review)\n",
    "        review = re.sub('봐용|봐염|봐여', '봐요', review)\n",
    "        review = re.sub('게용|게염|게여', '게요', review)\n",
    "        review = re.sub('했당', '했다', review)\n",
    "        review = re.sub('았당', '았다', review)\n",
    "        review = re.sub('에용|에염|에여|예염', '에요', review)\n",
    "        review = re.sub('세용|세염|세여', '세요', review)\n",
    "        review = re.sub('께용|께염|께여|께유', '께요', review)\n",
    "        review = re.sub('해용|해염|해여|해유', '해요', review)\n",
    "        review = re.sub('네용|네염|네여|네유', '네요', review)\n",
    "        review = re.sub('아용|아염|아여', '아요', review)\n",
    "        review = re.sub('니당', '니다', review)\n",
    "        review = re.sub('괜춘', '괜찮네요', review)\n",
    "        review = re.sub('이뻐', '예뻐', review)\n",
    "        review = re.sub('이쁘', '예쁘', review)\n",
    "        review = re.sub('이쁜', '예쁜', review)\n",
    "        review = re.sub('고기집', '고깃집', review)\n",
    "        review = re.sub('같아용|같아염|같아여', '같아요', review)\n",
    "        review = re.sub('같네용|같네염|같네여', '같네요', review)\n",
    "        review = re.sub('이구용', '이구요', review)\n",
    "        review = re.sub('었 따', '었다', review)\n",
    "        # 띄어쓰기\n",
    "        review = spacing(review)\n",
    "        # 띄어쓰기 전처리\n",
    "        review = re.sub('니\\s다', '니다', review)\n",
    "        review = re.sub('라\\s고요|라고\\s요', '라고요', review)\n",
    "        review = re.sub('배\\s곧', '배곧', review)\n",
    "        review = re.sub('또\\s잇', '또잇', review)\n",
    "        review = re.sub('와\\s규', '와규', review)\n",
    "        review = re.sub('에\\s비야', '에비야', review)\n",
    "        #문장 분절\n",
    "        review = kss.split_sentences(review)\n",
    "        append(review)\n",
    "        \n",
    "        \n",
    "    return corpus"
   ]
  },
  {
   "cell_type": "code",
   "execution_count": 43,
   "id": "9b989312",
   "metadata": {},
   "outputs": [
    {
     "name": "stderr",
     "output_type": "stream",
     "text": [
      "전처리 진행율: 100%|██████████| 3231/3231 [14:27<00:00,  3.73it/s]\n"
     ]
    }
   ],
   "source": [
    "review_content = visitor_review['visitor review content']\n",
    "corpus = normalization(review_content)"
   ]
  },
  {
   "cell_type": "markdown",
   "id": "7445b22c",
   "metadata": {},
   "source": [
    "## 3-(3) 네이버 플레이스 방문자 리뷰 전처리"
   ]
  },
  {
   "cell_type": "code",
   "execution_count": 44,
   "id": "263f5d3b",
   "metadata": {},
   "outputs": [],
   "source": [
    "#corpus와 visitor_review2의 데이터 갯수 차로 인한 오류 발생\n",
    "def convert_place_review(df, corpus):\n",
    "    df.dropna(inplace=True) # 데이터프레임 결측값 제거\n",
    "    df.reset_index(inplace=True) # 데이터 프레임 인덱스 초기화\n",
    "\n",
    "    for i in range(len(corpus)):\n",
    "        for j in range(len(corpus[i])):\n",
    "            corpus[i][j] = corpus[i][j]+'.'\n",
    "    df.insert(4, 'visitor review',  corpus) # 4번째 행에 전처리된 플레이스 리뷰 삽입\n",
    "    df.dropna(inplace=True) # 정규화를 하면 플레이스 리뷰의 경우 이모티콘만 있는 경우에 결측값이 되기 때문에 한번 더 결측값 제거\n",
    "    df.drop(['visitor review content', 'index'], axis=1, inplace=True) # 기존 리뷰 행 삭제\n",
    "    df.to_csv('processed_place_visitor_review.csv', encoding='utf-8-sig')"
   ]
  },
  {
   "cell_type": "code",
   "execution_count": 45,
   "id": "fdeafab8",
   "metadata": {},
   "outputs": [],
   "source": [
    "convert_place_review(visitor_review, corpus)"
   ]
  },
  {
   "cell_type": "code",
   "execution_count": 46,
   "id": "14d5c5bc",
   "metadata": {},
   "outputs": [],
   "source": [
    "dff = pd.read_csv('processed_place_visitor_review.csv', encoding='utf-8-sig', index_col=0)\n",
    "review = dff['visitor review']\n",
    "\n",
    "# 문자열 형태로 바꿔서 풀고, [],'', , 등은 정규식으로 제거\n",
    "cop = []\n",
    "for i in range(len(review)):\n",
    "    sr = ''\n",
    "    sr += review[i]\n",
    "    sr = re.sub(r'[^가-힣-\\s0-9\\.]', '', sr)\n",
    "    cop.append(sr)"
   ]
  },
  {
   "cell_type": "code",
   "execution_count": 47,
   "id": "f75f7ad5",
   "metadata": {},
   "outputs": [
    {
     "data": {
      "text/html": [
       "<div>\n",
       "<style scoped>\n",
       "    .dataframe tbody tr th:only-of-type {\n",
       "        vertical-align: middle;\n",
       "    }\n",
       "\n",
       "    .dataframe tbody tr th {\n",
       "        vertical-align: top;\n",
       "    }\n",
       "\n",
       "    .dataframe thead th {\n",
       "        text-align: right;\n",
       "    }\n",
       "</style>\n",
       "<table border=\"1\" class=\"dataframe\">\n",
       "  <thead>\n",
       "    <tr style=\"text-align: right;\">\n",
       "      <th></th>\n",
       "      <th>num</th>\n",
       "      <th>name</th>\n",
       "      <th>blog or review</th>\n",
       "      <th>visitor review</th>\n",
       "    </tr>\n",
       "  </thead>\n",
       "  <tbody>\n",
       "    <tr>\n",
       "      <th>0</th>\n",
       "      <td>1</td>\n",
       "      <td>배곧 우정횟집</td>\n",
       "      <td>방문자 리뷰</td>\n",
       "      <td>가족 모임으로 다녀 왔습니다. 좋은 리뷰 평가가 많아서 일단 믿고 왔는데 부부 사장...</td>\n",
       "    </tr>\n",
       "    <tr>\n",
       "      <th>1</th>\n",
       "      <td>2</td>\n",
       "      <td>배곧 우정횟집</td>\n",
       "      <td>방문자 리뷰</td>\n",
       "      <td>주말에 어디갈까 하다가 티맵에 오이도 맛집 치니 똭 하고 우정회집이 나오더라고요 역...</td>\n",
       "    </tr>\n",
       "    <tr>\n",
       "      <th>2</th>\n",
       "      <td>3</td>\n",
       "      <td>배곧 우정횟집</td>\n",
       "      <td>방문자 리뷰</td>\n",
       "      <td>결혼기념일 남편이랑 다녀왔습니다. 5월 제철 도다리 회 밑반찬에 시키다 시 매운탕까...</td>\n",
       "    </tr>\n",
       "    <tr>\n",
       "      <th>3</th>\n",
       "      <td>4</td>\n",
       "      <td>배곧 우정횟집</td>\n",
       "      <td>방문자 리뷰</td>\n",
       "      <td>거래처 사장님 추천으로 왔다가 완전 맛있게 잘 먹었어요. 음식 진짜 깔끔하고 맛있어...</td>\n",
       "    </tr>\n",
       "    <tr>\n",
       "      <th>4</th>\n",
       "      <td>5</td>\n",
       "      <td>배곧 우정횟집</td>\n",
       "      <td>방문자 리뷰</td>\n",
       "      <td>오이도에서 제일 멋진 횟집입니다. 맛있어요.</td>\n",
       "    </tr>\n",
       "    <tr>\n",
       "      <th>...</th>\n",
       "      <td>...</td>\n",
       "      <td>...</td>\n",
       "      <td>...</td>\n",
       "      <td>...</td>\n",
       "    </tr>\n",
       "    <tr>\n",
       "      <th>3226</th>\n",
       "      <td>6</td>\n",
       "      <td>배곧 그레몽디저트샵</td>\n",
       "      <td>방문자 리뷰</td>\n",
       "      <td>출산한 아내가 가장 먹고 싶다고 말 한 그레몽 에 그 타르트 맛이 정말 예술입니다....</td>\n",
       "    </tr>\n",
       "    <tr>\n",
       "      <th>3227</th>\n",
       "      <td>7</td>\n",
       "      <td>배곧 그레몽디저트샵</td>\n",
       "      <td>방문자 리뷰</td>\n",
       "      <td>진짜 거짓말 안 하고 동네에 친구들 놀러오면 꼭 데려가는 곳입니다. 왜냐구요. 실패...</td>\n",
       "    </tr>\n",
       "    <tr>\n",
       "      <th>3228</th>\n",
       "      <td>8</td>\n",
       "      <td>배곧 그레몽디저트샵</td>\n",
       "      <td>방문자 리뷰</td>\n",
       "      <td>인스타 갬성 카페예요. 디저트가 너무 맛있고 인테리어를 엄청 신경 쓰신 게 보였어요...</td>\n",
       "    </tr>\n",
       "    <tr>\n",
       "      <th>3229</th>\n",
       "      <td>9</td>\n",
       "      <td>배곧 그레몽디저트샵</td>\n",
       "      <td>방문자 리뷰</td>\n",
       "      <td>빵 디저트 엄청 좋아해서 배곧 안 가본 곳이 없어요. 요기 휘낭시에 겉은 진짜 바삭...</td>\n",
       "    </tr>\n",
       "    <tr>\n",
       "      <th>3230</th>\n",
       "      <td>10</td>\n",
       "      <td>배곧 그레몽디저트샵</td>\n",
       "      <td>방문자 리뷰</td>\n",
       "      <td>이런 곳 너무 좋아합니다. 디저트도 맛있네요 오자마자 바로 저장.</td>\n",
       "    </tr>\n",
       "  </tbody>\n",
       "</table>\n",
       "<p>3231 rows × 4 columns</p>\n",
       "</div>"
      ],
      "text/plain": [
       "      num        name blog or review  \\\n",
       "0       1     배곧 우정횟집         방문자 리뷰   \n",
       "1       2     배곧 우정횟집         방문자 리뷰   \n",
       "2       3     배곧 우정횟집         방문자 리뷰   \n",
       "3       4     배곧 우정횟집         방문자 리뷰   \n",
       "4       5     배곧 우정횟집         방문자 리뷰   \n",
       "...   ...         ...            ...   \n",
       "3226    6  배곧 그레몽디저트샵         방문자 리뷰   \n",
       "3227    7  배곧 그레몽디저트샵         방문자 리뷰   \n",
       "3228    8  배곧 그레몽디저트샵         방문자 리뷰   \n",
       "3229    9  배곧 그레몽디저트샵         방문자 리뷰   \n",
       "3230   10  배곧 그레몽디저트샵         방문자 리뷰   \n",
       "\n",
       "                                         visitor review  \n",
       "0     가족 모임으로 다녀 왔습니다. 좋은 리뷰 평가가 많아서 일단 믿고 왔는데 부부 사장...  \n",
       "1     주말에 어디갈까 하다가 티맵에 오이도 맛집 치니 똭 하고 우정회집이 나오더라고요 역...  \n",
       "2     결혼기념일 남편이랑 다녀왔습니다. 5월 제철 도다리 회 밑반찬에 시키다 시 매운탕까...  \n",
       "3     거래처 사장님 추천으로 왔다가 완전 맛있게 잘 먹었어요. 음식 진짜 깔끔하고 맛있어...  \n",
       "4                              오이도에서 제일 멋진 횟집입니다. 맛있어요.  \n",
       "...                                                 ...  \n",
       "3226  출산한 아내가 가장 먹고 싶다고 말 한 그레몽 에 그 타르트 맛이 정말 예술입니다....  \n",
       "3227  진짜 거짓말 안 하고 동네에 친구들 놀러오면 꼭 데려가는 곳입니다. 왜냐구요. 실패...  \n",
       "3228  인스타 갬성 카페예요. 디저트가 너무 맛있고 인테리어를 엄청 신경 쓰신 게 보였어요...  \n",
       "3229  빵 디저트 엄청 좋아해서 배곧 안 가본 곳이 없어요. 요기 휘낭시에 겉은 진짜 바삭...  \n",
       "3230               이런 곳 너무 좋아합니다. 디저트도 맛있네요 오자마자 바로 저장.  \n",
       "\n",
       "[3231 rows x 4 columns]"
      ]
     },
     "execution_count": 47,
     "metadata": {},
     "output_type": "execute_result"
    }
   ],
   "source": [
    "dff.drop(['visitor review'], axis=1, inplace=True)\n",
    "dff.insert(3, 'visitor review', cop)\n",
    "dff.to_csv('processed_place_visitor_review.csv', encoding='utf-8-sig')\n",
    "pd.read_csv('processed_place_visitor_review.csv', encoding='utf-8-sig', index_col=0)"
   ]
  }
 ],
 "metadata": {
  "interpreter": {
   "hash": "751d1c02d5c61c6911b2d88961cd03bc6186ca10e5d0da68038447175fca0088"
  },
  "kernelspec": {
   "display_name": "Python 3.7.9 64-bit",
   "language": "python",
   "name": "python3"
  },
  "language_info": {
   "codemirror_mode": {
    "name": "ipython",
    "version": 3
   },
   "file_extension": ".py",
   "mimetype": "text/x-python",
   "name": "python",
   "nbconvert_exporter": "python",
   "pygments_lexer": "ipython3",
   "version": "3.7.9"
  }
 },
 "nbformat": 4,
 "nbformat_minor": 5
}
